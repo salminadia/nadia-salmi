{
  "nbformat": 4,
  "nbformat_minor": 0,
  "metadata": {
    "colab": {
      "name": "2xgboost.ipynb",
      "provenance": [],
      "collapsed_sections": [],
      "toc_visible": true,
      "machine_shape": "hm",
      "include_colab_link": true
    },
    "kernelspec": {
      "name": "python3",
      "display_name": "Python 3"
    },
    "accelerator": "TPU"
  },
  "cells": [
    {
      "cell_type": "markdown",
      "metadata": {
        "id": "view-in-github",
        "colab_type": "text"
      },
      "source": [
        "<a href=\"https://colab.research.google.com/github/salminadia/nadia-salmi/blob/master/2xgboost.ipynb\" target=\"_parent\"><img src=\"https://colab.research.google.com/assets/colab-badge.svg\" alt=\"Open In Colab\"/></a>"
      ]
    },
    {
      "cell_type": "code",
      "metadata": {
        "id": "tTOnPnDOp_i0",
        "colab_type": "code",
        "colab": {}
      },
      "source": [
        "\n",
        "# Colab library to upload files to notebook\n",
        "from google.colab import files\n",
        "#Install Kaggle library\n",
        "!pip install -q kaggle"
      ],
      "execution_count": 0,
      "outputs": []
    },
    {
      "cell_type": "code",
      "metadata": {
        "id": "G5CpNV_gqqSQ",
        "colab_type": "code",
        "outputId": "20976d8e-2f48-4ed2-c44f-c1d90c393094",
        "colab": {
          "resources": {
            "http://localhost:8080/nbextensions/google.colab/files.js": {
              "data": "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",
              "ok": true,
              "headers": [
                [
                  "content-type",
                  "application/javascript"
                ]
              ],
              "status": 200,
              "status_text": ""
            }
          },
          "base_uri": "https://localhost:8080/",
          "height": 74
        }
      },
      "source": [
        "#Upload kaggle API key file\n",
        "uploaded = files.upload()"
      ],
      "execution_count": 0,
      "outputs": [
        {
          "output_type": "display_data",
          "data": {
            "text/html": [
              "\n",
              "     <input type=\"file\" id=\"files-38e025dc-2f99-4fee-96c0-0a820d4cb090\" name=\"files[]\" multiple disabled />\n",
              "     <output id=\"result-38e025dc-2f99-4fee-96c0-0a820d4cb090\">\n",
              "      Upload widget is only available when the cell has been executed in the\n",
              "      current browser session. Please rerun this cell to enable.\n",
              "      </output>\n",
              "      <script src=\"/nbextensions/google.colab/files.js\"></script> "
            ],
            "text/plain": [
              "<IPython.core.display.HTML object>"
            ]
          },
          "metadata": {
            "tags": []
          }
        },
        {
          "output_type": "stream",
          "text": [
            "Saving kaggle.json to kaggle.json\n"
          ],
          "name": "stdout"
        }
      ]
    },
    {
      "cell_type": "code",
      "metadata": {
        "id": "YFRVp_trqv2B",
        "colab_type": "code",
        "outputId": "972ab0bb-c660-4eed-c069-a8173cd9050f",
        "colab": {
          "base_uri": "https://localhost:8080/",
          "height": 187
        }
      },
      "source": [
        "import os\n",
        "os.environ['KAGGLE_USERNAME'] = \"nadiasalmi\" # username from the json file\n",
        "os.environ['KAGGLE_KEY'] = \"111559c83d6fb4454e6c3764f5976b64\" # key from the json file\n",
        "!kaggle competitions download -c microsoft-malware-prediction # api copied from kaggle"
      ],
      "execution_count": 2,
      "outputs": [
        {
          "output_type": "stream",
          "text": [
            "Warning: Looks like you're using an outdated API Version, please consider updating (server 1.5.6 / client 1.5.4)\n",
            "Downloading train.csv.zip to /content\n",
            " 98% 753M/768M [00:03<00:00, 232MB/s]\n",
            "100% 768M/768M [00:04<00:00, 200MB/s]\n",
            "Downloading sample_submission.csv.zip to /content\n",
            " 81% 109M/134M [00:00<00:00, 126MB/s] \n",
            "100% 134M/134M [00:00<00:00, 197MB/s]\n",
            "Downloading test.csv.zip to /content\n",
            " 97% 651M/672M [00:04<00:00, 188MB/s]\n",
            "100% 672M/672M [00:04<00:00, 171MB/s]\n"
          ],
          "name": "stdout"
        }
      ]
    },
    {
      "cell_type": "code",
      "metadata": {
        "id": "n4cj2OyYq2q4",
        "colab_type": "code",
        "outputId": "185b9708-fa4e-4ce5-9e9b-66882fca0562",
        "colab": {
          "base_uri": "https://localhost:8080/",
          "height": 119
        }
      },
      "source": [
        "!unzip sample_submission.csv.zip\n",
        "!unzip test.csv.zip\n",
        "!unzip train.csv.zip"
      ],
      "execution_count": 3,
      "outputs": [
        {
          "output_type": "stream",
          "text": [
            "Archive:  sample_submission.csv.zip\n",
            "  inflating: sample_submission.csv   \n",
            "Archive:  test.csv.zip\n",
            "  inflating: test.csv                \n",
            "Archive:  train.csv.zip\n",
            "  inflating: train.csv               \n"
          ],
          "name": "stdout"
        }
      ]
    },
    {
      "cell_type": "code",
      "metadata": {
        "id": "uCuRo38OBXsN",
        "colab_type": "code",
        "colab": {}
      },
      "source": [
        "import numpy as np # linear algebra\n",
        "import pandas as pd # data processing, CSV file I/O (e.g. pd.read_csv)\n",
        "import os\n",
        "import matplotlib\n",
        "import matplotlib.pyplot as plt\n",
        "import seaborn as sns\n",
        "%matplotlib inline\n",
        "import time\n",
        "# en raison des limitations de la mémoire de  et de l'énorme taille du jeu de données, un échantillon de l'ensemble\n",
        "train_sample_fraction = 0.2\n",
        "\n",
        "\n",
        "# Valeurs NA qui dépassent ce taux\n",
        "na_rate_threshold = 0.9\n",
        "\n",
        "#seuil pour supprimer les colonnes avec des caractéristiques déséquilibrées à leurs valeurs \n",
        "unbalanced_feature_rate_threshold = 0.9\n"
      ],
      "execution_count": 0,
      "outputs": []
    },
    {
      "cell_type": "code",
      "metadata": {
        "id": "g_mnAifYIRRA",
        "colab_type": "code",
        "colab": {}
      },
      "source": [
        "#l'idée principale de charger le jeu de données et d'économiser de l'espace mémoire !!\n",
        "dtypes = {\n",
        "        'MachineIdentifier':                                    'category',\n",
        "        'ProductName':                                          'category',\n",
        "        'EngineVersion':                                        'category',\n",
        "        'AppVersion':                                           'category',\n",
        "        'AvSigVersion':                                         'category',\n",
        "        'IsBeta':                                               'int8',\n",
        "        'RtpStateBitfield':                                     'float16',\n",
        "        'IsSxsPassiveMode':                                     'int8',\n",
        "        'DefaultBrowsersIdentifier':                            'float16',\n",
        "        'AVProductStatesIdentifier':                            'float32',\n",
        "        'AVProductsInstalled':                                  'float16',\n",
        "        'AVProductsEnabled':                                    'float16',\n",
        "        'HasTpm':                                               'int8',\n",
        "        'CountryIdentifier':                                    'int16',\n",
        "        'CityIdentifier':                                       'float32',\n",
        "        'OrganizationIdentifier':                               'float16',\n",
        "        'GeoNameIdentifier':                                    'float16',\n",
        "        'LocaleEnglishNameIdentifier':                          'int8',\n",
        "        'Platform':                                             'category',\n",
        "        'Processor':                                            'category',\n",
        "        'OsVer':                                                'category',\n",
        "        'OsBuild':                                              'int16',\n",
        "        'OsSuite':                                              'int16',\n",
        "        'OsPlatformSubRelease':                                 'category',\n",
        "        'OsBuildLab':                                           'category',\n",
        "        'SkuEdition':                                           'category',\n",
        "        'IsProtected':                                          'float16',\n",
        "        'AutoSampleOptIn':                                      'int8',\n",
        "        'PuaMode':                                              'category',\n",
        "        'SMode':                                                'float16',\n",
        "        'IeVerIdentifier':                                      'float16',\n",
        "        'SmartScreen':                                          'category',\n",
        "        'Firewall':                                             'float16',\n",
        "        'UacLuaenable':                                         'float32',\n",
        "        'Census_MDC2FormFactor':                                'category',\n",
        "        'Census_DeviceFamily':                                  'category',\n",
        "        'Census_OEMNameIdentifier':                             'float16',\n",
        "        'Census_OEMModelIdentifier':                            'float32',\n",
        "        'Census_ProcessorCoreCount':                            'float16',\n",
        "        'Census_ProcessorManufacturerIdentifier':               'float16',\n",
        "        'Census_ProcessorModelIdentifier':                      'float16',\n",
        "        'Census_ProcessorClass':                                'category',\n",
        "        'Census_PrimaryDiskTotalCapacity':                      'float32',\n",
        "        'Census_PrimaryDiskTypeName':                           'category',\n",
        "        'Census_SystemVolumeTotalCapacity':                     'float32',\n",
        "        'Census_HasOpticalDiskDrive':                           'int8',\n",
        "        'Census_TotalPhysicalRAM':                              'float32',\n",
        "        'Census_ChassisTypeName':                               'category',\n",
        "        'Census_InternalPrimaryDiagonalDisplaySizeInInches':    'float16',\n",
        "        'Census_InternalPrimaryDisplayResolutionHorizontal':    'float16',\n",
        "        'Census_InternalPrimaryDisplayResolutionVertical':      'float16',\n",
        "        'Census_PowerPlatformRoleName':                         'category',\n",
        "        'Census_InternalBatteryType':                           'category',\n",
        "        'Census_InternalBatteryNumberOfCharges':                'float32',\n",
        "        'Census_OSVersion':                                     'category',\n",
        "        'Census_OSArchitecture':                                'category',\n",
        "        'Census_OSBranch':                                      'category',\n",
        "        'Census_OSBuildNumber':                                 'int16',\n",
        "        'Census_OSBuildRevision':                               'int32',\n",
        "        'Census_OSEdition':                                     'category',\n",
        "        'Census_OSSkuName':                                     'category',\n",
        "        'Census_OSInstallTypeName':                             'category',\n",
        "        'Census_OSInstallLanguageIdentifier':                   'float16',\n",
        "        'Census_OSUILocaleIdentifier':                          'int16',\n",
        "        'Census_OSWUAutoUpdateOptionsName':                     'category',\n",
        "        'Census_IsPortableOperatingSystem':                     'int8',\n",
        "        'Census_GenuineStateName':                              'category',\n",
        "        'Census_ActivationChannel':                             'category',\n",
        "        'Census_IsFlightingInternal':                           'float16',\n",
        "        'Census_IsFlightsDisabled':                             'float16',\n",
        "        'Census_FlightRing':                                    'category',\n",
        "        'Census_ThresholdOptIn':                                'float16',\n",
        "        'Census_FirmwareManufacturerIdentifier':                'float16',\n",
        "        'Census_FirmwareVersionIdentifier':                     'float32',\n",
        "        'Census_IsSecureBootEnabled':                           'int8',\n",
        "        'Census_IsWIMBootEnabled':                              'float16',\n",
        "        'Census_IsVirtualDevice':                               'float16',\n",
        "        'Census_IsTouchEnabled':                                'int8',\n",
        "        'Census_IsPenCapable':                                  'int8',\n",
        "        'Census_IsAlwaysOnAlwaysConnectedCapable':              'float16',\n",
        "        'Wdft_IsGamer':                                         'float16',\n",
        "        'Wdft_RegionIdentifier':                                'float16',\n",
        "        'HasDetections':                                        'int8'\n",
        "        }\n",
        "\n",
        "def reduce_mem_usage(df, verbose=True):\n",
        "    numerics = ['int16', 'int32', 'int64', 'float16', 'float32', 'float64']\n",
        "    start_mem = df.memory_usage(deep=True).sum() / 1024**2    \n",
        "    for col in df.columns:\n",
        "        col_type = df[col].dtypes\n",
        "        if col_type in numerics:\n",
        "            c_min = df[col].min()\n",
        "            c_max = df[col].max()\n",
        "            if str(col_type)[:3] == 'int':\n",
        "                if c_min > np.iinfo(np.int8).min and c_max < np.iinfo(np.int8).max:\n",
        "                    df[col] = df[col].astype(np.int8)\n",
        "                elif c_min > np.iinfo(np.int16).min and c_max < np.iinfo(np.int16).max:\n",
        "                    df[col] = df[col].astype(np.int16)\n",
        "                elif c_min > np.iinfo(np.int32).min and c_max < np.iinfo(np.int32).max:\n",
        "                    df[col] = df[col].astype(np.int32)\n",
        "                elif c_min > np.iinfo(np.int64).min and c_max < np.iinfo(np.int64).max:\n",
        "                    df[col] = df[col].astype(np.int64)  \n",
        "            else:\n",
        "                if c_min > np.finfo(np.float16).min and c_max < np.finfo(np.float16).max:\n",
        "                    df[col] = df[col].astype(np.float16)\n",
        "                elif c_min > np.finfo(np.float32).min and c_max < np.finfo(np.float32).max:\n",
        "                    df[col] = df[col].astype(np.float32)\n",
        "                else:\n",
        "                    df[col] = df[col].astype(np.float64)    \n",
        "    end_mem = df.memory_usage(deep=True).sum() / 1024**2\n",
        "    if verbose: print('Mem. usage decreased to {:5.2f} Mb ({:.1f}% reduction)'.format(end_mem, 100 * (start_mem - end_mem) / start_mem))\n",
        "    return df"
      ],
      "execution_count": 0,
      "outputs": []
    },
    {
      "cell_type": "code",
      "metadata": {
        "id": "IU32ZQPfIbRn",
        "colab_type": "code",
        "outputId": "ab65e66c-6642-4e37-bf06-a1c19343e49f",
        "colab": {
          "base_uri": "https://localhost:8080/",
          "height": 51
        }
      },
      "source": [
        "%%time\n",
        "train = pd.read_csv('train.csv', dtype=dtypes)"
      ],
      "execution_count": 6,
      "outputs": [
        {
          "output_type": "stream",
          "text": [
            "CPU times: user 2min 24s, sys: 5.59 s, total: 2min 30s\n",
            "Wall time: 2min 30s\n"
          ],
          "name": "stdout"
        }
      ]
    },
    {
      "cell_type": "code",
      "metadata": {
        "id": "tP7SWmvMJp9X",
        "colab_type": "code",
        "colab": {}
      },
      "source": [
        "good_cols = list(train.columns)\n",
        "\n",
        "for col in train.columns:\n",
        "    \n",
        "# supprimer les colonnes avec un taux NA élevé\n",
        "    na_rate = train[col].isnull().sum() / train.shape[0]\n",
        "    \n",
        "    # supprimer les colonnes avec un taux élevé de valeurs asymétriques\n",
        "    unbalanced_rate = train[col].value_counts(normalize=True, dropna=False).values[0]\n",
        "    \n",
        "    if na_rate > na_rate_threshold:\n",
        "        good_cols.remove(col)\n",
        "    elif unbalanced_rate > unbalanced_feature_rate_threshold:\n",
        "        good_cols.remove(col)"
      ],
      "execution_count": 0,
      "outputs": []
    },
    {
      "cell_type": "code",
      "metadata": {
        "id": "cJNzX3H5JzME",
        "colab_type": "code",
        "outputId": "11425d25-3aac-40eb-bd16-70fba09e3d1f",
        "colab": {
          "base_uri": "https://localhost:8080/",
          "height": 986
        }
      },
      "source": [
        "good_cols"
      ],
      "execution_count": 8,
      "outputs": [
        {
          "output_type": "execute_result",
          "data": {
            "text/plain": [
              "['MachineIdentifier',\n",
              " 'EngineVersion',\n",
              " 'AppVersion',\n",
              " 'AvSigVersion',\n",
              " 'AVProductStatesIdentifier',\n",
              " 'AVProductsInstalled',\n",
              " 'CountryIdentifier',\n",
              " 'CityIdentifier',\n",
              " 'OrganizationIdentifier',\n",
              " 'GeoNameIdentifier',\n",
              " 'LocaleEnglishNameIdentifier',\n",
              " 'OsBuild',\n",
              " 'OsSuite',\n",
              " 'OsPlatformSubRelease',\n",
              " 'OsBuildLab',\n",
              " 'SkuEdition',\n",
              " 'IeVerIdentifier',\n",
              " 'SmartScreen',\n",
              " 'Census_MDC2FormFactor',\n",
              " 'Census_OEMNameIdentifier',\n",
              " 'Census_OEMModelIdentifier',\n",
              " 'Census_ProcessorCoreCount',\n",
              " 'Census_ProcessorManufacturerIdentifier',\n",
              " 'Census_ProcessorModelIdentifier',\n",
              " 'Census_PrimaryDiskTotalCapacity',\n",
              " 'Census_PrimaryDiskTypeName',\n",
              " 'Census_SystemVolumeTotalCapacity',\n",
              " 'Census_TotalPhysicalRAM',\n",
              " 'Census_ChassisTypeName',\n",
              " 'Census_InternalPrimaryDiagonalDisplaySizeInInches',\n",
              " 'Census_InternalPrimaryDisplayResolutionHorizontal',\n",
              " 'Census_InternalPrimaryDisplayResolutionVertical',\n",
              " 'Census_PowerPlatformRoleName',\n",
              " 'Census_InternalBatteryType',\n",
              " 'Census_InternalBatteryNumberOfCharges',\n",
              " 'Census_OSVersion',\n",
              " 'Census_OSBranch',\n",
              " 'Census_OSBuildNumber',\n",
              " 'Census_OSBuildRevision',\n",
              " 'Census_OSEdition',\n",
              " 'Census_OSSkuName',\n",
              " 'Census_OSInstallTypeName',\n",
              " 'Census_OSInstallLanguageIdentifier',\n",
              " 'Census_OSUILocaleIdentifier',\n",
              " 'Census_OSWUAutoUpdateOptionsName',\n",
              " 'Census_GenuineStateName',\n",
              " 'Census_ActivationChannel',\n",
              " 'Census_IsFlightingInternal',\n",
              " 'Census_ThresholdOptIn',\n",
              " 'Census_FirmwareManufacturerIdentifier',\n",
              " 'Census_FirmwareVersionIdentifier',\n",
              " 'Census_IsSecureBootEnabled',\n",
              " 'Census_IsWIMBootEnabled',\n",
              " 'Census_IsTouchEnabled',\n",
              " 'Wdft_IsGamer',\n",
              " 'Wdft_RegionIdentifier',\n",
              " 'HasDetections']"
            ]
          },
          "metadata": {
            "tags": []
          },
          "execution_count": 8
        }
      ]
    },
    {
      "cell_type": "code",
      "metadata": {
        "id": "Ip_Zs8C0J5Pe",
        "colab_type": "code",
        "colab": {}
      },
      "source": [
        "train = train[good_cols]"
      ],
      "execution_count": 0,
      "outputs": []
    },
    {
      "cell_type": "code",
      "metadata": {
        "id": "QUDRdJaoKnun",
        "colab_type": "code",
        "outputId": "da39e60d-9802-4106-8c08-c1b893b0529e",
        "colab": {
          "base_uri": "https://localhost:8080/",
          "height": 34
        }
      },
      "source": [
        "import gc\n",
        "\n",
        "gc.collect()"
      ],
      "execution_count": 10,
      "outputs": [
        {
          "output_type": "execute_result",
          "data": {
            "text/plain": [
              "0"
            ]
          },
          "metadata": {
            "tags": []
          },
          "execution_count": 10
        }
      ]
    },
    {
      "cell_type": "code",
      "metadata": {
        "id": "atrkA1YqKsHL",
        "colab_type": "code",
        "colab": {}
      },
      "source": [
        "categorical_columns = list(train.loc[:, train.dtypes ==\"category\"].columns)\n",
        "numerical_and_binary_columns = list(train.loc[:, train.dtypes !=\"category\"].columns)\n",
        "numerical_columns = numerical_and_binary_columns\n",
        "\n",
        "categorical_columns.remove(\"MachineIdentifier\")\n",
        "\n",
        "binary_columns = []\n",
        "for col in (numerical_and_binary_columns):\n",
        "    if train[col].nunique() == 2:\n",
        "        binary_columns.append(col)\n",
        "        numerical_columns.remove(col)"
      ],
      "execution_count": 0,
      "outputs": []
    },
    {
      "cell_type": "code",
      "metadata": {
        "id": "neXThpJVKzAb",
        "colab_type": "code",
        "colab": {}
      },
      "source": [
        "import gc\n",
        "train_sample = train.sample(frac=train_sample_fraction, random_state=42)\n",
        "\n"
      ],
      "execution_count": 0,
      "outputs": []
    },
    {
      "cell_type": "code",
      "metadata": {
        "id": "xivqLINDK4dO",
        "colab_type": "code",
        "outputId": "9f850aba-92b1-4ac6-c1c9-28dc0281e04b",
        "colab": {
          "base_uri": "https://localhost:8080/",
          "height": 34
        }
      },
      "source": [
        "train_sample.shape"
      ],
      "execution_count": 13,
      "outputs": [
        {
          "output_type": "execute_result",
          "data": {
            "text/plain": [
              "(1784297, 57)"
            ]
          },
          "metadata": {
            "tags": []
          },
          "execution_count": 13
        }
      ]
    },
    {
      "cell_type": "code",
      "metadata": {
        "id": "LWMxfRVkK89i",
        "colab_type": "code",
        "colab": {}
      },
      "source": [
        "test_dtypes = {k: v for k, v in dtypes.items() if k in good_cols}\n",
        "\n",
        "# get all columns except\n",
        "test = pd.read_csv('test.csv', dtype=test_dtypes, usecols=good_cols[:-1])\n",
        "\n",
        "#test = reduce_mem_usage(test)"
      ],
      "execution_count": 0,
      "outputs": []
    },
    {
      "cell_type": "code",
      "metadata": {
        "id": "Z4h8QupaLtdA",
        "colab_type": "code",
        "colab": {}
      },
      "source": [
        "#supprission des targets pour faciliter l'encoding\n",
        "train_sample = train_sample.drop(['MachineIdentifier'], axis=1)\n",
        "test = test.drop(['MachineIdentifier'], axis=1)"
      ],
      "execution_count": 0,
      "outputs": []
    },
    {
      "cell_type": "code",
      "metadata": {
        "id": "8oT0sDvOL0og",
        "colab_type": "code",
        "colab": {}
      },
      "source": [
        "train_sample = train_sample.reset_index(drop=True)"
      ],
      "execution_count": 0,
      "outputs": []
    },
    {
      "cell_type": "code",
      "metadata": {
        "id": "BjQ8cKM9L4oX",
        "colab_type": "code",
        "colab": {}
      },
      "source": [
        "#Remplir les valeurs NA avec le mode statistique\n",
        "modes = train_sample.mode()\n",
        "\n",
        "for col in train_sample.columns:\n",
        "    train_sample[col] = np.where(train_sample[col].isnull(), modes[col], train_sample[col])\n",
        "\n",
        "del modes"
      ],
      "execution_count": 0,
      "outputs": []
    },
    {
      "cell_type": "code",
      "metadata": {
        "id": "5pchGkLfMP2w",
        "colab_type": "code",
        "colab": {}
      },
      "source": [
        "#Remplir les valeurs NA avec le mode statistique\n",
        "modes_test = test.mode()\n",
        "\n",
        "for col in test.columns:\n",
        "    test[col] = np.where(test[col].isnull(), modes_test[col], test[col])\n",
        "\n",
        "#train_sample.shape\n",
        "del modes_test"
      ],
      "execution_count": 0,
      "outputs": []
    },
    {
      "cell_type": "code",
      "metadata": {
        "id": "Dt_r19W2Me6A",
        "colab_type": "code",
        "outputId": "26eecf23-777b-42f7-cecb-14ef3672dec4",
        "colab": {
          "base_uri": "https://localhost:8080/",
          "height": 34
        }
      },
      "source": [
        "train_sample.shape"
      ],
      "execution_count": 19,
      "outputs": [
        {
          "output_type": "execute_result",
          "data": {
            "text/plain": [
              "(1784297, 56)"
            ]
          },
          "metadata": {
            "tags": []
          },
          "execution_count": 19
        }
      ]
    },
    {
      "cell_type": "code",
      "metadata": {
        "id": "K5gmNjCxMif3",
        "colab_type": "code",
        "outputId": "dad8fec8-1afc-4c25-fc1c-59e4ded1b739",
        "colab": {
          "base_uri": "https://localhost:8080/",
          "height": 34
        }
      },
      "source": [
        "test.shape"
      ],
      "execution_count": 20,
      "outputs": [
        {
          "output_type": "execute_result",
          "data": {
            "text/plain": [
              "(7853253, 55)"
            ]
          },
          "metadata": {
            "tags": []
          },
          "execution_count": 20
        }
      ]
    },
    {
      "cell_type": "code",
      "metadata": {
        "id": "D31xX6VnM2xo",
        "colab_type": "code",
        "colab": {}
      },
      "source": [
        "#Encoder les fonctionnalités catégorielles (train)\n",
        "from sklearn.preprocessing import LabelEncoder\n",
        "from sklearn.preprocessing import OneHotEncoder\n",
        "\n",
        "def MultiLabelEncoder(columnlist,dataframe):\n",
        "    for i in columnlist:\n",
        "        #print(i)\n",
        "        labelencoder_X=LabelEncoder()\n",
        "        dataframe[i]=labelencoder_X.fit_transform(dataframe[i])\n",
        "\n",
        "MultiLabelEncoder(categorical_columns, train_sample)"
      ],
      "execution_count": 0,
      "outputs": []
    },
    {
      "cell_type": "code",
      "metadata": {
        "id": "SVbexuoGNCjF",
        "colab_type": "code",
        "colab": {}
      },
      "source": [
        "#Encoder les fonctionnalités catégorielles(test)\n",
        "from sklearn.preprocessing import LabelEncoder\n",
        "from sklearn.preprocessing import OneHotEncoder\n",
        "\n",
        "def MultiLabelEncoder(columnlist,dataframe):\n",
        "    for i in columnlist:\n",
        "        #print(i)\n",
        "        labelencoder_X=LabelEncoder()\n",
        "        dataframe[i]=labelencoder_X.fit_transform(dataframe[i])\n",
        "\n",
        "MultiLabelEncoder(categorical_columns, test)"
      ],
      "execution_count": 0,
      "outputs": []
    },
    {
      "cell_type": "code",
      "metadata": {
        "id": "WVmEnKQ9NTJ6",
        "colab_type": "code",
        "colab": {}
      },
      "source": [
        "import numpy as np \n",
        "import pandas as pd \n",
        "import gc\n",
        "import seaborn as sns\n",
        "import matplotlib.pyplot as plt\n",
        "import warnings\n",
        "warnings.filterwarnings('ignore')\n",
        "from sklearn.model_selection import StratifiedKFold\n",
        "from sklearn.metrics import roc_auc_score, f1_score,  precision_score, recall_score, confusion_matrix\n",
        "import xgboost as xgb"
      ],
      "execution_count": 0,
      "outputs": []
    },
    {
      "cell_type": "code",
      "metadata": {
        "id": "2Wze3v0ANZCU",
        "colab_type": "code",
        "colab": {}
      },
      "source": [
        "train_cols = [c for c in train_sample.columns if c not in [\"HasDetections\"]]\n",
        "y_train = train_sample[\"HasDetections\"]"
      ],
      "execution_count": 0,
      "outputs": []
    },
    {
      "cell_type": "code",
      "metadata": {
        "id": "3rN2hqbXN0Pg",
        "colab_type": "code",
        "outputId": "4e92f8b0-62b7-4e2b-bb13-3f3657c4c3bf",
        "colab": {
          "base_uri": "https://localhost:8080/",
          "height": 68
        }
      },
      "source": [
        "y_train.value_counts()"
      ],
      "execution_count": 25,
      "outputs": [
        {
          "output_type": "execute_result",
          "data": {
            "text/plain": [
              "0    893061\n",
              "1    891236\n",
              "Name: HasDetections, dtype: int64"
            ]
          },
          "metadata": {
            "tags": []
          },
          "execution_count": 25
        }
      ]
    },
    {
      "cell_type": "code",
      "metadata": {
        "id": "5nSCmuE6OK4N",
        "colab_type": "code",
        "colab": {}
      },
      "source": [
        "folds = StratifiedKFold(n_splits=5, shuffle=True, random_state=1001)"
      ],
      "execution_count": 0,
      "outputs": []
    },
    {
      "cell_type": "code",
      "metadata": {
        "id": "kcalPxF_OPa9",
        "colab_type": "code",
        "colab": {}
      },
      "source": [
        "\n",
        "params = {'tree_method': 'hist',\n",
        "          #régression logistique pour la classification binaire, probabilité de sortie\n",
        " 'objective': 'binary:logistic',\n",
        " 'eval_metric': 'auc',\n",
        " 'learning_rate': 0.0936165921314771,\n",
        " 'max_depth': 2,\n",
        " 'colsample_bytree': 0.3561271102144279,\n",
        " 'subsample': 0.8246604621518232,\n",
        " 'min_child_weight': 53,\n",
        " 'gamma': 9.943467991283027,\n",
        " 'silent': 1}"
      ],
      "execution_count": 0,
      "outputs": []
    },
    {
      "cell_type": "code",
      "metadata": {
        "id": "afRjzXMfOZAm",
        "colab_type": "code",
        "outputId": "4f1725f6-cd48-45e5-c75a-a45bb8bc8097",
        "colab": {
          "base_uri": "https://localhost:8080/",
          "height": 1000
        }
      },
      "source": [
        "%%time\n",
        "\n",
        "oof_preds = np.zeros(train_sample.shape[0])\n",
        "sub_preds = np.zeros(test.shape[0])\n",
        "\n",
        "feature_importance_df = pd.DataFrame()\n",
        "\n",
        "for n_fold, (trn_idx, val_idx) in enumerate(folds.split(train_sample, y_train)):\n",
        "    \n",
        "    trn_x, trn_y = train_sample[train_cols].iloc[trn_idx], y_train.iloc[trn_idx]\n",
        "    val_x, val_y = train_sample[train_cols].iloc[val_idx], y_train.iloc[val_idx]\n",
        "    \n",
        "    dtrain = xgb.DMatrix(trn_x, trn_y, feature_names=trn_x.columns)\n",
        "    dval = xgb.DMatrix(val_x, val_y, feature_names=val_x.columns)\n",
        "    \n",
        "    clf = xgb.train(params=params, dtrain=dtrain, num_boost_round=4000, evals=[(dtrain, \"Train\"), (dval, \"Val\")],\n",
        "        verbose_eval= 100, early_stopping_rounds=50) \n",
        "    \n",
        "    oof_preds[val_idx] = clf.predict(xgb.DMatrix(val_x))\n",
        "    sub_preds += clf.predict(xgb.DMatrix(test[train_cols])) / folds.n_splits\n",
        "\n",
        "    fold_importance_df = pd.DataFrame()\n",
        "    fold_importance_df[\"feature\"] = pd.DataFrame.from_dict(data=clf.get_fscore(), orient=\"index\", columns=[\"FScore\"])[\"FScore\"].index\n",
        "    fold_importance_df[\"fscore\"] = pd.DataFrame.from_dict(data=clf.get_fscore(), orient=\"index\", columns=[\"FScore\"])[\"FScore\"].values\n",
        "    fold_importance_df[\"fold\"] = n_fold + 1\n",
        "    feature_importance_df = pd.concat([feature_importance_df, fold_importance_df], axis=0)\n",
        "\n",
        "    print('\\nFold %1d AUC %.6f & std %.6f' %(n_fold + 1, roc_auc_score(val_y, oof_preds[val_idx]), np.std([oof_preds[val_idx]])))\n",
        "    print('Fold %1d Precision %.6f' %(n_fold + 1, precision_score(val_y, np.round(oof_preds[val_idx])) ))\n",
        "    print('Fold %1d Recall %.6f' %(n_fold + 1, recall_score(val_y, np.round(oof_preds[val_idx]) )))\n",
        "    print('Fold %1d F1 score %.6f' % (n_fold + 1,f1_score(val_y, np.round(oof_preds[val_idx]))))\n",
        "    #print('Fold %1d Kappa score %.6f\\n' % (n_fold + 1,cohen_kappa_score(val_y, np.round(oof_preds[val_idx]))))\n",
        "    gc.collect()\n",
        "\n",
        "print('\\nCV AUC score %.6f & std %.6f' % (roc_auc_score(y_train, oof_preds), np.std((oof_preds))))\n",
        "print('CV Precision score %.6f' % (precision_score(y_train, np.round(oof_preds))))\n",
        "print('CV Recall score %.6f' % (recall_score(y_train, np.round(oof_preds))))\n",
        "print('CV F1 score %.6f' % (f1_score(y_train, np.round(oof_preds))))\n"
      ],
      "execution_count": 28,
      "outputs": [
        {
          "output_type": "stream",
          "text": [
            "[0]\tTrain-auc:0.58549\tVal-auc:0.584267\n",
            "Multiple eval metrics have been passed: 'Val-auc' will be used for early stopping.\n",
            "\n",
            "Will train until Val-auc hasn't improved in 50 rounds.\n",
            "[100]\tTrain-auc:0.685454\tVal-auc:0.683122\n",
            "[200]\tTrain-auc:0.691776\tVal-auc:0.689482\n",
            "[300]\tTrain-auc:0.695275\tVal-auc:0.693034\n",
            "[400]\tTrain-auc:0.697553\tVal-auc:0.695322\n",
            "[500]\tTrain-auc:0.699634\tVal-auc:0.697447\n",
            "[600]\tTrain-auc:0.701072\tVal-auc:0.698842\n",
            "[700]\tTrain-auc:0.702374\tVal-auc:0.700149\n",
            "[800]\tTrain-auc:0.703658\tVal-auc:0.701427\n",
            "[900]\tTrain-auc:0.704832\tVal-auc:0.702628\n",
            "[1000]\tTrain-auc:0.705654\tVal-auc:0.703427\n",
            "[1100]\tTrain-auc:0.706473\tVal-auc:0.704174\n",
            "[1200]\tTrain-auc:0.707076\tVal-auc:0.704794\n",
            "[1300]\tTrain-auc:0.707728\tVal-auc:0.705425\n",
            "[1400]\tTrain-auc:0.708234\tVal-auc:0.705931\n",
            "[1500]\tTrain-auc:0.708629\tVal-auc:0.706298\n",
            "[1600]\tTrain-auc:0.709048\tVal-auc:0.706701\n",
            "[1700]\tTrain-auc:0.709484\tVal-auc:0.707104\n",
            "[1800]\tTrain-auc:0.709851\tVal-auc:0.707487\n",
            "[1900]\tTrain-auc:0.710127\tVal-auc:0.707731\n",
            "[2000]\tTrain-auc:0.710451\tVal-auc:0.708018\n",
            "[2100]\tTrain-auc:0.710762\tVal-auc:0.708329\n",
            "[2200]\tTrain-auc:0.711045\tVal-auc:0.708585\n",
            "[2300]\tTrain-auc:0.711316\tVal-auc:0.708833\n",
            "[2400]\tTrain-auc:0.711545\tVal-auc:0.709022\n",
            "[2500]\tTrain-auc:0.711788\tVal-auc:0.709236\n",
            "[2600]\tTrain-auc:0.712004\tVal-auc:0.709447\n",
            "[2700]\tTrain-auc:0.712216\tVal-auc:0.709628\n",
            "[2800]\tTrain-auc:0.712417\tVal-auc:0.709825\n",
            "[2900]\tTrain-auc:0.712587\tVal-auc:0.709971\n",
            "[3000]\tTrain-auc:0.712728\tVal-auc:0.710111\n",
            "[3100]\tTrain-auc:0.712867\tVal-auc:0.710245\n",
            "[3200]\tTrain-auc:0.71299\tVal-auc:0.710352\n",
            "[3300]\tTrain-auc:0.713139\tVal-auc:0.710484\n",
            "[3400]\tTrain-auc:0.713288\tVal-auc:0.710611\n",
            "[3500]\tTrain-auc:0.713414\tVal-auc:0.710719\n",
            "[3600]\tTrain-auc:0.713539\tVal-auc:0.710827\n",
            "[3700]\tTrain-auc:0.71369\tVal-auc:0.710972\n",
            "[3800]\tTrain-auc:0.713828\tVal-auc:0.711091\n",
            "[3900]\tTrain-auc:0.713959\tVal-auc:0.711217\n",
            "[3999]\tTrain-auc:0.714096\tVal-auc:0.711339\n",
            "\n",
            "Fold 1 AUC 0.711339 & std 0.179436\n",
            "Fold 1 Precision 0.649986\n",
            "Fold 1 Recall 0.648742\n",
            "Fold 1 F1 score 0.649363\n",
            "[0]\tTrain-auc:0.584858\tVal-auc:0.586797\n",
            "Multiple eval metrics have been passed: 'Val-auc' will be used for early stopping.\n",
            "\n",
            "Will train until Val-auc hasn't improved in 50 rounds.\n",
            "[100]\tTrain-auc:0.684217\tVal-auc:0.68571\n",
            "[200]\tTrain-auc:0.691212\tVal-auc:0.692714\n",
            "[300]\tTrain-auc:0.694885\tVal-auc:0.696201\n",
            "[400]\tTrain-auc:0.697094\tVal-auc:0.698253\n",
            "[500]\tTrain-auc:0.698952\tVal-auc:0.699997\n",
            "[600]\tTrain-auc:0.700785\tVal-auc:0.701728\n",
            "[700]\tTrain-auc:0.702371\tVal-auc:0.703164\n",
            "[800]\tTrain-auc:0.703482\tVal-auc:0.704166\n",
            "[900]\tTrain-auc:0.704571\tVal-auc:0.705119\n",
            "[1000]\tTrain-auc:0.705339\tVal-auc:0.705801\n",
            "[1100]\tTrain-auc:0.706084\tVal-auc:0.70645\n",
            "[1200]\tTrain-auc:0.706735\tVal-auc:0.707013\n",
            "[1300]\tTrain-auc:0.707404\tVal-auc:0.707604\n",
            "[1400]\tTrain-auc:0.707984\tVal-auc:0.708126\n",
            "[1500]\tTrain-auc:0.708496\tVal-auc:0.708569\n",
            "[1600]\tTrain-auc:0.708946\tVal-auc:0.708964\n",
            "[1700]\tTrain-auc:0.709418\tVal-auc:0.709367\n",
            "[1800]\tTrain-auc:0.709813\tVal-auc:0.709726\n",
            "[1900]\tTrain-auc:0.710137\tVal-auc:0.710018\n",
            "[2000]\tTrain-auc:0.710405\tVal-auc:0.710217\n",
            "[2100]\tTrain-auc:0.710689\tVal-auc:0.710446\n",
            "[2200]\tTrain-auc:0.710951\tVal-auc:0.710684\n",
            "[2300]\tTrain-auc:0.711186\tVal-auc:0.71089\n",
            "[2400]\tTrain-auc:0.711417\tVal-auc:0.711058\n",
            "[2500]\tTrain-auc:0.711682\tVal-auc:0.711266\n",
            "[2600]\tTrain-auc:0.711873\tVal-auc:0.711408\n",
            "[2700]\tTrain-auc:0.712069\tVal-auc:0.711558\n",
            "[2800]\tTrain-auc:0.712288\tVal-auc:0.711737\n",
            "[2900]\tTrain-auc:0.712414\tVal-auc:0.711869\n",
            "[3000]\tTrain-auc:0.712574\tVal-auc:0.71198\n",
            "[3100]\tTrain-auc:0.71273\tVal-auc:0.712095\n",
            "[3200]\tTrain-auc:0.712894\tVal-auc:0.712242\n",
            "[3300]\tTrain-auc:0.713009\tVal-auc:0.71234\n",
            "[3400]\tTrain-auc:0.713147\tVal-auc:0.712455\n",
            "[3500]\tTrain-auc:0.71326\tVal-auc:0.712525\n",
            "[3600]\tTrain-auc:0.713397\tVal-auc:0.712636\n",
            "[3700]\tTrain-auc:0.713501\tVal-auc:0.712708\n",
            "[3800]\tTrain-auc:0.713603\tVal-auc:0.712791\n",
            "[3900]\tTrain-auc:0.713718\tVal-auc:0.712872\n",
            "[3999]\tTrain-auc:0.71381\tVal-auc:0.71295\n",
            "\n",
            "Fold 2 AUC 0.712950 & std 0.178495\n",
            "Fold 2 Precision 0.652446\n",
            "Fold 2 Recall 0.649935\n",
            "Fold 2 F1 score 0.651188\n",
            "[0]\tTrain-auc:0.585394\tVal-auc:0.584639\n",
            "Multiple eval metrics have been passed: 'Val-auc' will be used for early stopping.\n",
            "\n",
            "Will train until Val-auc hasn't improved in 50 rounds.\n",
            "[100]\tTrain-auc:0.685055\tVal-auc:0.685102\n",
            "[200]\tTrain-auc:0.6917\tVal-auc:0.691597\n",
            "[300]\tTrain-auc:0.69519\tVal-auc:0.694965\n",
            "[400]\tTrain-auc:0.697494\tVal-auc:0.697148\n",
            "[500]\tTrain-auc:0.69927\tVal-auc:0.698857\n",
            "[600]\tTrain-auc:0.700867\tVal-auc:0.700403\n",
            "[700]\tTrain-auc:0.702388\tVal-auc:0.70184\n",
            "[800]\tTrain-auc:0.70347\tVal-auc:0.702872\n",
            "[900]\tTrain-auc:0.704533\tVal-auc:0.703861\n",
            "[1000]\tTrain-auc:0.705411\tVal-auc:0.704655\n",
            "[1100]\tTrain-auc:0.706258\tVal-auc:0.705396\n",
            "[1200]\tTrain-auc:0.707008\tVal-auc:0.706033\n",
            "[1300]\tTrain-auc:0.707609\tVal-auc:0.706525\n",
            "[1400]\tTrain-auc:0.70811\tVal-auc:0.706982\n",
            "[1500]\tTrain-auc:0.708589\tVal-auc:0.707423\n",
            "[1600]\tTrain-auc:0.708964\tVal-auc:0.707738\n",
            "[1700]\tTrain-auc:0.709308\tVal-auc:0.708051\n",
            "[1800]\tTrain-auc:0.709765\tVal-auc:0.70842\n",
            "[1900]\tTrain-auc:0.710163\tVal-auc:0.708749\n",
            "[2000]\tTrain-auc:0.71048\tVal-auc:0.709041\n",
            "[2100]\tTrain-auc:0.710737\tVal-auc:0.709254\n",
            "[2200]\tTrain-auc:0.711016\tVal-auc:0.709485\n",
            "[2300]\tTrain-auc:0.71132\tVal-auc:0.709737\n",
            "[2400]\tTrain-auc:0.711584\tVal-auc:0.709972\n",
            "[2500]\tTrain-auc:0.711803\tVal-auc:0.710177\n",
            "[2600]\tTrain-auc:0.711999\tVal-auc:0.710341\n",
            "[2700]\tTrain-auc:0.712245\tVal-auc:0.710574\n",
            "[2800]\tTrain-auc:0.712462\tVal-auc:0.71075\n",
            "[2900]\tTrain-auc:0.712643\tVal-auc:0.710902\n",
            "[3000]\tTrain-auc:0.712811\tVal-auc:0.711026\n",
            "[3100]\tTrain-auc:0.712992\tVal-auc:0.711164\n",
            "[3200]\tTrain-auc:0.713186\tVal-auc:0.711352\n",
            "[3300]\tTrain-auc:0.713327\tVal-auc:0.711445\n",
            "[3400]\tTrain-auc:0.71343\tVal-auc:0.711523\n",
            "[3500]\tTrain-auc:0.713582\tVal-auc:0.711631\n",
            "[3600]\tTrain-auc:0.713709\tVal-auc:0.711747\n",
            "[3700]\tTrain-auc:0.713871\tVal-auc:0.711891\n",
            "[3800]\tTrain-auc:0.713984\tVal-auc:0.71196\n",
            "[3900]\tTrain-auc:0.714118\tVal-auc:0.712092\n",
            "[3999]\tTrain-auc:0.714256\tVal-auc:0.712215\n",
            "\n",
            "Fold 3 AUC 0.712215 & std 0.179980\n",
            "Fold 3 Precision 0.651165\n",
            "Fold 3 Recall 0.648611\n",
            "Fold 3 F1 score 0.649885\n",
            "[0]\tTrain-auc:0.585391\tVal-auc:0.584646\n",
            "Multiple eval metrics have been passed: 'Val-auc' will be used for early stopping.\n",
            "\n",
            "Will train until Val-auc hasn't improved in 50 rounds.\n",
            "[100]\tTrain-auc:0.685109\tVal-auc:0.684494\n",
            "[200]\tTrain-auc:0.69144\tVal-auc:0.690708\n",
            "[300]\tTrain-auc:0.694864\tVal-auc:0.694113\n",
            "[400]\tTrain-auc:0.697418\tVal-auc:0.696648\n",
            "[500]\tTrain-auc:0.699309\tVal-auc:0.698416\n",
            "[600]\tTrain-auc:0.70107\tVal-auc:0.700119\n",
            "[700]\tTrain-auc:0.702491\tVal-auc:0.701444\n",
            "[800]\tTrain-auc:0.703546\tVal-auc:0.702428\n",
            "[900]\tTrain-auc:0.704719\tVal-auc:0.703544\n",
            "[1000]\tTrain-auc:0.705678\tVal-auc:0.704439\n",
            "[1100]\tTrain-auc:0.706485\tVal-auc:0.70519\n",
            "[1200]\tTrain-auc:0.707081\tVal-auc:0.705733\n",
            "[1300]\tTrain-auc:0.707658\tVal-auc:0.706197\n",
            "[1400]\tTrain-auc:0.708114\tVal-auc:0.706627\n",
            "[1500]\tTrain-auc:0.708525\tVal-auc:0.706978\n",
            "[1600]\tTrain-auc:0.708974\tVal-auc:0.707371\n",
            "[1700]\tTrain-auc:0.709351\tVal-auc:0.707701\n",
            "[1800]\tTrain-auc:0.709691\tVal-auc:0.708\n",
            "[1900]\tTrain-auc:0.710041\tVal-auc:0.708337\n",
            "[2000]\tTrain-auc:0.710411\tVal-auc:0.708696\n",
            "[2100]\tTrain-auc:0.710698\tVal-auc:0.70894\n",
            "[2200]\tTrain-auc:0.710941\tVal-auc:0.709142\n",
            "[2300]\tTrain-auc:0.71121\tVal-auc:0.709377\n",
            "[2400]\tTrain-auc:0.71138\tVal-auc:0.709517\n",
            "[2500]\tTrain-auc:0.711611\tVal-auc:0.709709\n",
            "[2600]\tTrain-auc:0.711812\tVal-auc:0.709874\n",
            "[2700]\tTrain-auc:0.711973\tVal-auc:0.709999\n",
            "[2800]\tTrain-auc:0.712207\tVal-auc:0.710216\n",
            "[2900]\tTrain-auc:0.712398\tVal-auc:0.710356\n",
            "[3000]\tTrain-auc:0.712538\tVal-auc:0.710459\n",
            "[3100]\tTrain-auc:0.712685\tVal-auc:0.710571\n",
            "[3200]\tTrain-auc:0.712798\tVal-auc:0.710665\n",
            "[3300]\tTrain-auc:0.712937\tVal-auc:0.710773\n",
            "[3400]\tTrain-auc:0.71307\tVal-auc:0.710875\n",
            "[3500]\tTrain-auc:0.713235\tVal-auc:0.711013\n",
            "[3600]\tTrain-auc:0.713361\tVal-auc:0.711122\n",
            "[3700]\tTrain-auc:0.713478\tVal-auc:0.71122\n",
            "[3800]\tTrain-auc:0.713559\tVal-auc:0.711275\n",
            "[3900]\tTrain-auc:0.713662\tVal-auc:0.711367\n",
            "[3999]\tTrain-auc:0.713758\tVal-auc:0.711445\n",
            "\n",
            "Fold 4 AUC 0.711445 & std 0.178642\n",
            "Fold 4 Precision 0.650574\n",
            "Fold 4 Recall 0.646541\n",
            "Fold 4 F1 score 0.648551\n",
            "[0]\tTrain-auc:0.585087\tVal-auc:0.585862\n",
            "Multiple eval metrics have been passed: 'Val-auc' will be used for early stopping.\n",
            "\n",
            "Will train until Val-auc hasn't improved in 50 rounds.\n",
            "[100]\tTrain-auc:0.684433\tVal-auc:0.685139\n",
            "[200]\tTrain-auc:0.691711\tVal-auc:0.692299\n",
            "[300]\tTrain-auc:0.694986\tVal-auc:0.695485\n",
            "[400]\tTrain-auc:0.69736\tVal-auc:0.697824\n",
            "[500]\tTrain-auc:0.699184\tVal-auc:0.699556\n",
            "[600]\tTrain-auc:0.700883\tVal-auc:0.70114\n",
            "[700]\tTrain-auc:0.70217\tVal-auc:0.702393\n",
            "[800]\tTrain-auc:0.703332\tVal-auc:0.703499\n",
            "[900]\tTrain-auc:0.704448\tVal-auc:0.704571\n",
            "[1000]\tTrain-auc:0.705484\tVal-auc:0.705525\n",
            "[1100]\tTrain-auc:0.70632\tVal-auc:0.706314\n",
            "[1200]\tTrain-auc:0.707013\tVal-auc:0.706968\n",
            "[1300]\tTrain-auc:0.707603\tVal-auc:0.707544\n",
            "[1400]\tTrain-auc:0.708048\tVal-auc:0.707946\n",
            "[1500]\tTrain-auc:0.708561\tVal-auc:0.708365\n",
            "[1600]\tTrain-auc:0.709048\tVal-auc:0.708821\n",
            "[1700]\tTrain-auc:0.70933\tVal-auc:0.709088\n",
            "[1800]\tTrain-auc:0.709765\tVal-auc:0.709492\n",
            "[1900]\tTrain-auc:0.710127\tVal-auc:0.709795\n",
            "[2000]\tTrain-auc:0.710422\tVal-auc:0.710069\n",
            "[2100]\tTrain-auc:0.710705\tVal-auc:0.710318\n",
            "[2200]\tTrain-auc:0.711\tVal-auc:0.710582\n",
            "[2300]\tTrain-auc:0.711234\tVal-auc:0.710777\n",
            "[2400]\tTrain-auc:0.711467\tVal-auc:0.710982\n",
            "[2500]\tTrain-auc:0.711682\tVal-auc:0.711164\n",
            "[2600]\tTrain-auc:0.711918\tVal-auc:0.711383\n",
            "[2700]\tTrain-auc:0.712074\tVal-auc:0.711519\n",
            "[2800]\tTrain-auc:0.712271\tVal-auc:0.711698\n",
            "[2900]\tTrain-auc:0.712469\tVal-auc:0.711874\n",
            "[3000]\tTrain-auc:0.712659\tVal-auc:0.712039\n",
            "[3100]\tTrain-auc:0.712854\tVal-auc:0.712228\n",
            "[3200]\tTrain-auc:0.713024\tVal-auc:0.712372\n",
            "[3300]\tTrain-auc:0.713161\tVal-auc:0.712476\n",
            "[3400]\tTrain-auc:0.713328\tVal-auc:0.712623\n",
            "[3500]\tTrain-auc:0.713459\tVal-auc:0.712734\n",
            "[3600]\tTrain-auc:0.713574\tVal-auc:0.712846\n",
            "[3700]\tTrain-auc:0.713738\tVal-auc:0.712985\n",
            "[3800]\tTrain-auc:0.713867\tVal-auc:0.713096\n",
            "[3900]\tTrain-auc:0.713988\tVal-auc:0.713204\n",
            "[3999]\tTrain-auc:0.714109\tVal-auc:0.7133\n",
            "\n",
            "Fold 5 AUC 0.713300 & std 0.179761\n",
            "Fold 5 Precision 0.652864\n",
            "Fold 5 Recall 0.647641\n",
            "Fold 5 F1 score 0.650242\n",
            "\n",
            "CV AUC score 0.712247 & std 0.179264\n",
            "CV Precision score 0.651406\n",
            "CV Recall score 0.648294\n",
            "CV F1 score 0.649846\n",
            "CPU times: user 1d 20h 5min 28s, sys: 14min 45s, total: 1d 20h 20min 13s\n",
            "Wall time: 1h 21min 42s\n"
          ],
          "name": "stdout"
        }
      ]
    },
    {
      "cell_type": "code",
      "metadata": {
        "id": "MpqvMZc3hRVv",
        "colab_type": "code",
        "outputId": "b4249247-6dd9-48a6-95fd-579507a3ed60",
        "colab": {
          "base_uri": "https://localhost:8080/",
          "height": 517
        }
      },
      "source": [
        "print(confusion_matrix(y_train, np.round(oof_preds)))\n",
        "skplt.metrics.plot_confusion_matrix(y_train, np.round(oof_preds), cmap=\"BrBG\")"
      ],
      "execution_count": 0,
      "outputs": [
        {
          "output_type": "stream",
          "text": [
            "[[583865 309196]\n",
            " [313453 577783]]\n"
          ],
          "name": "stdout"
        },
        {
          "output_type": "execute_result",
          "data": {
            "text/plain": [
              "<matplotlib.axes._subplots.AxesSubplot at 0x7f9547092470>"
            ]
          },
          "metadata": {
            "tags": []
          },
          "execution_count": 45
        },
        {
          "output_type": "display_data",
          "data": {
            "image/png": "[encoded data removed]",
            "text/plain": [
              "<Figure size 576x576 with 2 Axes>"
            ]
          },
          "metadata": {
            "tags": []
          }
        }
      ]
    },
    {
      "cell_type": "code",
      "metadata": {
        "id": "MTbM_VQ9heL9",
        "colab_type": "code",
        "colab": {}
      },
      "source": [
        "from sklearn.metrics import confusion_matrix\n",
        "import scikitplot as skplt\n",
        "\n",
        "sns.set(rc={'figure.figsize':(8,8)})\n",
        "skplt.metrics.plot_confusion_matrix(val_y, oof_preds, cmap=\"BrBG\")"
      ],
      "execution_count": 0,
      "outputs": []
    },
    {
      "cell_type": "code",
      "metadata": {
        "id": "zc70mqd4kpus",
        "colab_type": "code",
        "outputId": "1c832006-94e1-4037-914d-de26bcb7d677",
        "colab": {
          "base_uri": "https://localhost:8080/",
          "height": 753
        }
      },
      "source": [
        "fig, ax = plt.subplots(1,1,figsize=(10,12)) \n",
        "xgb.plot_importance(clf, max_num_features=57, ax=ax)  "
      ],
      "execution_count": 0,
      "outputs": [
        {
          "output_type": "execute_result",
          "data": {
            "text/plain": [
              "<matplotlib.axes._subplots.AxesSubplot at 0x7f950f921d30>"
            ]
          },
          "metadata": {
            "tags": []
          },
          "execution_count": 49
        },
        {
          "output_type": "display_data",
          "data": {
            "image/png": "[encoded data removed]",
            "text/plain": [
              "<Figure size 720x864 with 1 Axes>"
            ]
          },
          "metadata": {
            "tags": []
          }
        }
      ]
    },
    {
      "cell_type": "code",
      "metadata": {
        "id": "Agq0Li8zmktR",
        "colab_type": "code",
        "colab": {}
      },
      "source": [
        "test['HasDetections'] = sub_preds"
      ],
      "execution_count": 0,
      "outputs": []
    },
    {
      "cell_type": "code",
      "metadata": {
        "id": "Vx7CoqDFmvLW",
        "colab_type": "code",
        "outputId": "a302b7c0-e57c-4b70-c05a-dd5d9afcf344",
        "colab": {
          "base_uri": "https://localhost:8080/",
          "height": 224
        }
      },
      "source": [
        "test.head()"
      ],
      "execution_count": 0,
      "outputs": [
        {
          "output_type": "execute_result",
          "data": {
            "text/html": [
              "<div>\n",
              "<style scoped>\n",
              "    .dataframe tbody tr th:only-of-type {\n",
              "        vertical-align: middle;\n",
              "    }\n",
              "\n",
              "    .dataframe tbody tr th {\n",
              "        vertical-align: top;\n",
              "    }\n",
              "\n",
              "    .dataframe thead th {\n",
              "        text-align: right;\n",
              "    }\n",
              "</style>\n",
              "<table border=\"1\" class=\"dataframe\">\n",
              "  <thead>\n",
              "    <tr style=\"text-align: right;\">\n",
              "      <th></th>\n",
              "      <th>EngineVersion</th>\n",
              "      <th>AppVersion</th>\n",
              "      <th>AvSigVersion</th>\n",
              "      <th>AVProductStatesIdentifier</th>\n",
              "      <th>AVProductsInstalled</th>\n",
              "      <th>CountryIdentifier</th>\n",
              "      <th>CityIdentifier</th>\n",
              "      <th>OrganizationIdentifier</th>\n",
              "      <th>GeoNameIdentifier</th>\n",
              "      <th>LocaleEnglishNameIdentifier</th>\n",
              "      <th>OsBuild</th>\n",
              "      <th>OsSuite</th>\n",
              "      <th>OsPlatformSubRelease</th>\n",
              "      <th>OsBuildLab</th>\n",
              "      <th>SkuEdition</th>\n",
              "      <th>IeVerIdentifier</th>\n",
              "      <th>SmartScreen</th>\n",
              "      <th>Census_MDC2FormFactor</th>\n",
              "      <th>Census_OEMNameIdentifier</th>\n",
              "      <th>Census_OEMModelIdentifier</th>\n",
              "      <th>Census_ProcessorCoreCount</th>\n",
              "      <th>Census_ProcessorManufacturerIdentifier</th>\n",
              "      <th>Census_ProcessorModelIdentifier</th>\n",
              "      <th>Census_PrimaryDiskTotalCapacity</th>\n",
              "      <th>Census_PrimaryDiskTypeName</th>\n",
              "      <th>Census_SystemVolumeTotalCapacity</th>\n",
              "      <th>Census_TotalPhysicalRAM</th>\n",
              "      <th>Census_ChassisTypeName</th>\n",
              "      <th>Census_InternalPrimaryDiagonalDisplaySizeInInches</th>\n",
              "      <th>Census_InternalPrimaryDisplayResolutionHorizontal</th>\n",
              "      <th>Census_InternalPrimaryDisplayResolutionVertical</th>\n",
              "      <th>Census_PowerPlatformRoleName</th>\n",
              "      <th>Census_InternalBatteryType</th>\n",
              "      <th>Census_InternalBatteryNumberOfCharges</th>\n",
              "      <th>Census_OSVersion</th>\n",
              "      <th>Census_OSBranch</th>\n",
              "      <th>Census_OSBuildNumber</th>\n",
              "      <th>Census_OSBuildRevision</th>\n",
              "      <th>Census_OSEdition</th>\n",
              "      <th>Census_OSSkuName</th>\n",
              "      <th>Census_OSInstallTypeName</th>\n",
              "      <th>Census_OSInstallLanguageIdentifier</th>\n",
              "      <th>Census_OSUILocaleIdentifier</th>\n",
              "      <th>Census_OSWUAutoUpdateOptionsName</th>\n",
              "      <th>Census_GenuineStateName</th>\n",
              "      <th>Census_ActivationChannel</th>\n",
              "      <th>Census_IsFlightingInternal</th>\n",
              "      <th>Census_ThresholdOptIn</th>\n",
              "      <th>Census_FirmwareManufacturerIdentifier</th>\n",
              "      <th>Census_FirmwareVersionIdentifier</th>\n",
              "      <th>Census_IsSecureBootEnabled</th>\n",
              "      <th>Census_IsWIMBootEnabled</th>\n",
              "      <th>Census_IsTouchEnabled</th>\n",
              "      <th>Wdft_IsGamer</th>\n",
              "      <th>Wdft_RegionIdentifier</th>\n",
              "      <th>HasDetections</th>\n",
              "    </tr>\n",
              "  </thead>\n",
              "  <tbody>\n",
              "    <tr>\n",
              "      <th>0</th>\n",
              "      <td>68</td>\n",
              "      <td>70</td>\n",
              "      <td>9261</td>\n",
              "      <td>53447.0</td>\n",
              "      <td>1.0</td>\n",
              "      <td>43</td>\n",
              "      <td>58552.0</td>\n",
              "      <td>18.0</td>\n",
              "      <td>53.0</td>\n",
              "      <td>42</td>\n",
              "      <td>15063</td>\n",
              "      <td>768</td>\n",
              "      <td>2</td>\n",
              "      <td>259</td>\n",
              "      <td>4</td>\n",
              "      <td>108.0</td>\n",
              "      <td>13</td>\n",
              "      <td>8</td>\n",
              "      <td>2688.0</td>\n",
              "      <td>30661.0</td>\n",
              "      <td>4.0</td>\n",
              "      <td>5.0</td>\n",
              "      <td>3064.0</td>\n",
              "      <td>488386.0</td>\n",
              "      <td>1</td>\n",
              "      <td>123179.0</td>\n",
              "      <td>8192.0</td>\n",
              "      <td>33</td>\n",
              "      <td>15.500000</td>\n",
              "      <td>1920.0</td>\n",
              "      <td>1080.0</td>\n",
              "      <td>3</td>\n",
              "      <td>42</td>\n",
              "      <td>8.0</td>\n",
              "      <td>255</td>\n",
              "      <td>3</td>\n",
              "      <td>15063</td>\n",
              "      <td>1387</td>\n",
              "      <td>4</td>\n",
              "      <td>2</td>\n",
              "      <td>5</td>\n",
              "      <td>37.0</td>\n",
              "      <td>158</td>\n",
              "      <td>0</td>\n",
              "      <td>1</td>\n",
              "      <td>0</td>\n",
              "      <td>0.0</td>\n",
              "      <td>0.0</td>\n",
              "      <td>807.0</td>\n",
              "      <td>8554.0</td>\n",
              "      <td>1</td>\n",
              "      <td>0.0</td>\n",
              "      <td>0</td>\n",
              "      <td>0.0</td>\n",
              "      <td>7.0</td>\n",
              "      <td>0.623209</td>\n",
              "    </tr>\n",
              "    <tr>\n",
              "      <th>1</th>\n",
              "      <td>67</td>\n",
              "      <td>64</td>\n",
              "      <td>9005</td>\n",
              "      <td>53447.0</td>\n",
              "      <td>1.0</td>\n",
              "      <td>68</td>\n",
              "      <td>71395.0</td>\n",
              "      <td>27.0</td>\n",
              "      <td>276.0</td>\n",
              "      <td>74</td>\n",
              "      <td>16299</td>\n",
              "      <td>768</td>\n",
              "      <td>3</td>\n",
              "      <td>270</td>\n",
              "      <td>4</td>\n",
              "      <td>117.0</td>\n",
              "      <td>13</td>\n",
              "      <td>8</td>\n",
              "      <td>2206.0</td>\n",
              "      <td>242491.0</td>\n",
              "      <td>4.0</td>\n",
              "      <td>5.0</td>\n",
              "      <td>3410.0</td>\n",
              "      <td>1907729.0</td>\n",
              "      <td>0</td>\n",
              "      <td>1882352.0</td>\n",
              "      <td>8192.0</td>\n",
              "      <td>33</td>\n",
              "      <td>15.500000</td>\n",
              "      <td>1366.0</td>\n",
              "      <td>768.0</td>\n",
              "      <td>3</td>\n",
              "      <td>42</td>\n",
              "      <td>0.0</td>\n",
              "      <td>323</td>\n",
              "      <td>6</td>\n",
              "      <td>16299</td>\n",
              "      <td>611</td>\n",
              "      <td>4</td>\n",
              "      <td>2</td>\n",
              "      <td>6</td>\n",
              "      <td>7.0</td>\n",
              "      <td>30</td>\n",
              "      <td>0</td>\n",
              "      <td>1</td>\n",
              "      <td>2</td>\n",
              "      <td>0.0</td>\n",
              "      <td>0.0</td>\n",
              "      <td>554.0</td>\n",
              "      <td>33105.0</td>\n",
              "      <td>1</td>\n",
              "      <td>0.0</td>\n",
              "      <td>0</td>\n",
              "      <td>1.0</td>\n",
              "      <td>12.0</td>\n",
              "      <td>0.662946</td>\n",
              "    </tr>\n",
              "    <tr>\n",
              "      <th>2</th>\n",
              "      <td>65</td>\n",
              "      <td>64</td>\n",
              "      <td>8501</td>\n",
              "      <td>49480.0</td>\n",
              "      <td>2.0</td>\n",
              "      <td>201</td>\n",
              "      <td>66202.0</td>\n",
              "      <td>27.0</td>\n",
              "      <td>267.0</td>\n",
              "      <td>-5</td>\n",
              "      <td>14393</td>\n",
              "      <td>768</td>\n",
              "      <td>1</td>\n",
              "      <td>201</td>\n",
              "      <td>4</td>\n",
              "      <td>98.0</td>\n",
              "      <td>13</td>\n",
              "      <td>8</td>\n",
              "      <td>585.0</td>\n",
              "      <td>189533.0</td>\n",
              "      <td>2.0</td>\n",
              "      <td>5.0</td>\n",
              "      <td>2096.0</td>\n",
              "      <td>29820.0</td>\n",
              "      <td>1</td>\n",
              "      <td>28678.0</td>\n",
              "      <td>4096.0</td>\n",
              "      <td>33</td>\n",
              "      <td>13.898438</td>\n",
              "      <td>1280.0</td>\n",
              "      <td>720.0</td>\n",
              "      <td>3</td>\n",
              "      <td>42</td>\n",
              "      <td>0.0</td>\n",
              "      <td>174</td>\n",
              "      <td>0</td>\n",
              "      <td>14393</td>\n",
              "      <td>2189</td>\n",
              "      <td>7</td>\n",
              "      <td>5</td>\n",
              "      <td>3</td>\n",
              "      <td>35.0</td>\n",
              "      <td>148</td>\n",
              "      <td>5</td>\n",
              "      <td>1</td>\n",
              "      <td>0</td>\n",
              "      <td>0.0</td>\n",
              "      <td>0.0</td>\n",
              "      <td>556.0</td>\n",
              "      <td>63396.0</td>\n",
              "      <td>1</td>\n",
              "      <td>0.0</td>\n",
              "      <td>0</td>\n",
              "      <td>1.0</td>\n",
              "      <td>11.0</td>\n",
              "      <td>0.520969</td>\n",
              "    </tr>\n",
              "    <tr>\n",
              "      <th>3</th>\n",
              "      <td>68</td>\n",
              "      <td>70</td>\n",
              "      <td>9301</td>\n",
              "      <td>42160.0</td>\n",
              "      <td>2.0</td>\n",
              "      <td>29</td>\n",
              "      <td>120917.0</td>\n",
              "      <td>27.0</td>\n",
              "      <td>35.0</td>\n",
              "      <td>-85</td>\n",
              "      <td>16299</td>\n",
              "      <td>768</td>\n",
              "      <td>3</td>\n",
              "      <td>266</td>\n",
              "      <td>4</td>\n",
              "      <td>117.0</td>\n",
              "      <td>13</td>\n",
              "      <td>8</td>\n",
              "      <td>2668.0</td>\n",
              "      <td>171228.0</td>\n",
              "      <td>2.0</td>\n",
              "      <td>5.0</td>\n",
              "      <td>1985.0</td>\n",
              "      <td>476940.0</td>\n",
              "      <td>0</td>\n",
              "      <td>439345.0</td>\n",
              "      <td>4096.0</td>\n",
              "      <td>33</td>\n",
              "      <td>14.000000</td>\n",
              "      <td>1366.0</td>\n",
              "      <td>768.0</td>\n",
              "      <td>3</td>\n",
              "      <td>37</td>\n",
              "      <td>0.0</td>\n",
              "      <td>312</td>\n",
              "      <td>5</td>\n",
              "      <td>16299</td>\n",
              "      <td>371</td>\n",
              "      <td>7</td>\n",
              "      <td>5</td>\n",
              "      <td>8</td>\n",
              "      <td>26.0</td>\n",
              "      <td>119</td>\n",
              "      <td>3</td>\n",
              "      <td>1</td>\n",
              "      <td>0</td>\n",
              "      <td>0.0</td>\n",
              "      <td>0.0</td>\n",
              "      <td>628.0</td>\n",
              "      <td>26320.0</td>\n",
              "      <td>1</td>\n",
              "      <td>0.0</td>\n",
              "      <td>0</td>\n",
              "      <td>0.0</td>\n",
              "      <td>10.0</td>\n",
              "      <td>0.414077</td>\n",
              "    </tr>\n",
              "    <tr>\n",
              "      <th>4</th>\n",
              "      <td>67</td>\n",
              "      <td>64</td>\n",
              "      <td>8989</td>\n",
              "      <td>53447.0</td>\n",
              "      <td>1.0</td>\n",
              "      <td>171</td>\n",
              "      <td>124736.0</td>\n",
              "      <td>18.0</td>\n",
              "      <td>211.0</td>\n",
              "      <td>-74</td>\n",
              "      <td>16299</td>\n",
              "      <td>768</td>\n",
              "      <td>3</td>\n",
              "      <td>266</td>\n",
              "      <td>4</td>\n",
              "      <td>117.0</td>\n",
              "      <td>13</td>\n",
              "      <td>8</td>\n",
              "      <td>585.0</td>\n",
              "      <td>189538.0</td>\n",
              "      <td>4.0</td>\n",
              "      <td>5.0</td>\n",
              "      <td>3394.0</td>\n",
              "      <td>476940.0</td>\n",
              "      <td>0</td>\n",
              "      <td>461506.0</td>\n",
              "      <td>2048.0</td>\n",
              "      <td>33</td>\n",
              "      <td>15.500000</td>\n",
              "      <td>1366.0</td>\n",
              "      <td>768.0</td>\n",
              "      <td>3</td>\n",
              "      <td>42</td>\n",
              "      <td>0.0</td>\n",
              "      <td>312</td>\n",
              "      <td>5</td>\n",
              "      <td>16299</td>\n",
              "      <td>371</td>\n",
              "      <td>7</td>\n",
              "      <td>5</td>\n",
              "      <td>7</td>\n",
              "      <td>29.0</td>\n",
              "      <td>125</td>\n",
              "      <td>5</td>\n",
              "      <td>1</td>\n",
              "      <td>2</td>\n",
              "      <td>0.0</td>\n",
              "      <td>0.0</td>\n",
              "      <td>556.0</td>\n",
              "      <td>63269.0</td>\n",
              "      <td>1</td>\n",
              "      <td>0.0</td>\n",
              "      <td>0</td>\n",
              "      <td>1.0</td>\n",
              "      <td>3.0</td>\n",
              "      <td>0.602327</td>\n",
              "    </tr>\n",
              "  </tbody>\n",
              "</table>\n",
              "</div>"
            ],
            "text/plain": [
              "   EngineVersion  AppVersion  ...  Wdft_RegionIdentifier  HasDetections\n",
              "0             68          70  ...                    7.0       0.623209\n",
              "1             67          64  ...                   12.0       0.662946\n",
              "2             65          64  ...                   11.0       0.520969\n",
              "3             68          70  ...                   10.0       0.414077\n",
              "4             67          64  ...                    3.0       0.602327\n",
              "\n",
              "[5 rows x 56 columns]"
            ]
          },
          "metadata": {
            "tags": []
          },
          "execution_count": 55
        }
      ]
    },
    {
      "cell_type": "code",
      "metadata": {
        "id": "EifCGifzm6SS",
        "colab_type": "code",
        "outputId": "f24dc822-59fc-4d82-8c79-bf4d9fd434f2",
        "colab": {
          "base_uri": "https://localhost:8080/",
          "height": 34
        }
      },
      "source": [
        "\n",
        "oof_roc = roc_auc_score(y_train, oof_preds)\n",
        "oof_roc "
      ],
      "execution_count": 0,
      "outputs": [
        {
          "output_type": "execute_result",
          "data": {
            "text/plain": [
              "0.7122472107766223"
            ]
          },
          "metadata": {
            "tags": []
          },
          "execution_count": 56
        }
      ]
    },
    {
      "cell_type": "code",
      "metadata": {
        "id": "A_OeEcagucAC",
        "colab_type": "code",
        "colab": {}
      },
      "source": [
        "import os"
      ],
      "execution_count": 0,
      "outputs": []
    },
    {
      "cell_type": "code",
      "metadata": {
        "id": "qWoJFr0suoKT",
        "colab_type": "code",
        "outputId": "a1b9428a-1a5a-4c65-e809-91d439fed27c",
        "colab": {
          "base_uri": "https://localhost:8080/",
          "height": 34
        }
      },
      "source": [
        "os.environ['COLAB_TPU_ADDR']"
      ],
      "execution_count": 0,
      "outputs": [
        {
          "output_type": "execute_result",
          "data": {
            "text/plain": [
              "'10.14.77.90:8470'"
            ]
          },
          "metadata": {
            "tags": []
          },
          "execution_count": 5
        }
      ]
    },
    {
      "cell_type": "code",
      "metadata": {
        "id": "cC05E0k-0esk",
        "colab_type": "code",
        "colab": {}
      },
      "source": [
        "!jupyter nbconvert --to html nadia.ipynb"
      ],
      "execution_count": 0,
      "outputs": []
    },
    {
      "cell_type": "markdown",
      "metadata": {
        "id": "0NJCuT21RRcu",
        "colab_type": "text"
      },
      "source": [
        "La construction de model 1\n"
      ]
    },
    {
      "cell_type": "code",
      "metadata": {
        "colab_type": "code",
        "outputId": "f5ff40fe-3163-4b3c-e4c6-76da8900686f",
        "id": "-ONYFNlorlSS",
        "colab": {
          "base_uri": "https://localhost:8080/",
          "height": 1000
        }
      },
      "source": [
        "%%time\n",
        "\n",
        "oof_preds = np.zeros(train_sample.shape[0])\n",
        "sub_preds = np.zeros(test.shape[0])\n",
        "\n",
        "feature_importance_df = pd.DataFrame()\n",
        "\n",
        "for n_fold, (trn_idx, val_idx) in enumerate(folds.split(train_sample, y_train)):\n",
        "    \n",
        "    trn_x, trn_y = train_sample[train_cols].iloc[trn_idx], y_train.iloc[trn_idx]\n",
        "    val_x, val_y = train_sample[train_cols].iloc[val_idx], y_train.iloc[val_idx]\n",
        "    \n",
        "    dtrain = xgb.DMatrix(trn_x, trn_y, feature_names=trn_x.columns)\n",
        "    dval = xgb.DMatrix(val_x, val_y, feature_names=val_x.columns)\n",
        "    \n",
        "    clf = xgb.train(params=params, dtrain=dtrain, num_boost_round=1000, evals=[(dtrain, \"Train\"), (dval, \"Val\")],\n",
        "        verbose_eval= 100, early_stopping_rounds=100) \n",
        "    \n",
        "    oof_preds[val_idx] = clf.predict(xgb.DMatrix(val_x))\n",
        "    sub_preds += clf.predict(xgb.DMatrix(test[train_cols])) / folds.n_splits\n",
        "\n",
        "    fold_importance_df = pd.DataFrame()\n",
        "    fold_importance_df[\"feature\"] = pd.DataFrame.from_dict(data=clf.get_fscore(), orient=\"index\", columns=[\"FScore\"])[\"FScore\"].index\n",
        "    fold_importance_df[\"fscore\"] = pd.DataFrame.from_dict(data=clf.get_fscore(), orient=\"index\", columns=[\"FScore\"])[\"FScore\"].values\n",
        "    fold_importance_df[\"fold\"] = n_fold + 1\n",
        "    feature_importance_df = pd.concat([feature_importance_df, fold_importance_df], axis=0)\n",
        "\n",
        "    print('\\nFold %1d AUC %.6f & std %.6f' %(n_fold + 1, roc_auc_score(val_y, oof_preds[val_idx]), np.std([oof_preds[val_idx]])))\n",
        "    print('Fold %1d Precision %.6f' %(n_fold + 1, precision_score(val_y, np.round(oof_preds[val_idx])) ))\n",
        "    print('Fold %1d Recall %.6f' %(n_fold + 1, recall_score(val_y, np.round(oof_preds[val_idx]) )))\n",
        "    print('Fold %1d F1 score %.6f' % (n_fold + 1,f1_score(val_y, np.round(oof_preds[val_idx]))))\n",
        "    #print('Fold %1d Kappa score %.6f\\n' % (n_fold + 1,cohen_kappa_score(val_y, np.round(oof_preds[val_idx]))))\n",
        "    gc.collect()\n",
        "\n",
        "print('\\nCV AUC score %.6f & std %.6f' % (roc_auc_score(y_train, oof_preds), np.std((oof_preds))))\n",
        "print('Cross validation Precision score %.6f' % (precision_score(y_train, np.round(oof_preds))))\n",
        "print('Cross validation Recall score %.6f' % (recall_score(y_train, np.round(oof_preds))))\n",
        "print('Cross validation F1 score %.6f' % (f1_score(y_train, np.round(oof_preds))))\n"
      ],
      "execution_count": 28,
      "outputs": [
        {
          "output_type": "stream",
          "text": [
            "[0]\tTrain-auc:0.58549\tVal-auc:0.584267\n",
            "Multiple eval metrics have been passed: 'Val-auc' will be used for early stopping.\n",
            "\n",
            "Will train until Val-auc hasn't improved in 100 rounds.\n",
            "[100]\tTrain-auc:0.685454\tVal-auc:0.683122\n",
            "[200]\tTrain-auc:0.691776\tVal-auc:0.689482\n",
            "[300]\tTrain-auc:0.695275\tVal-auc:0.693034\n",
            "[400]\tTrain-auc:0.697553\tVal-auc:0.695322\n",
            "[500]\tTrain-auc:0.699634\tVal-auc:0.697447\n",
            "[600]\tTrain-auc:0.701072\tVal-auc:0.698842\n",
            "[700]\tTrain-auc:0.702374\tVal-auc:0.700149\n",
            "[800]\tTrain-auc:0.703658\tVal-auc:0.701427\n",
            "[900]\tTrain-auc:0.704832\tVal-auc:0.702628\n",
            "[999]\tTrain-auc:0.705646\tVal-auc:0.703418\n",
            "\n",
            "Fold 1 AUC 0.703418 & std 0.171344\n",
            "Fold 1 Precision 0.643963\n",
            "Fold 1 Recall 0.644714\n",
            "Fold 1 F1 score 0.644338\n",
            "[0]\tTrain-auc:0.584858\tVal-auc:0.586797\n",
            "Multiple eval metrics have been passed: 'Val-auc' will be used for early stopping.\n",
            "\n",
            "Will train until Val-auc hasn't improved in 100 rounds.\n",
            "[100]\tTrain-auc:0.684217\tVal-auc:0.68571\n",
            "[200]\tTrain-auc:0.691212\tVal-auc:0.692714\n",
            "[300]\tTrain-auc:0.694885\tVal-auc:0.696201\n",
            "[400]\tTrain-auc:0.697094\tVal-auc:0.698253\n",
            "[500]\tTrain-auc:0.698952\tVal-auc:0.699997\n",
            "[600]\tTrain-auc:0.700785\tVal-auc:0.701728\n",
            "[700]\tTrain-auc:0.702371\tVal-auc:0.703164\n",
            "[800]\tTrain-auc:0.703482\tVal-auc:0.704166\n",
            "[900]\tTrain-auc:0.704571\tVal-auc:0.705119\n",
            "[999]\tTrain-auc:0.705335\tVal-auc:0.705795\n",
            "\n",
            "Fold 2 AUC 0.705795 & std 0.170584\n",
            "Fold 2 Precision 0.646147\n",
            "Fold 2 Recall 0.645150\n",
            "Fold 2 F1 score 0.645648\n",
            "[0]\tTrain-auc:0.585394\tVal-auc:0.584639\n",
            "Multiple eval metrics have been passed: 'Val-auc' will be used for early stopping.\n",
            "\n",
            "Will train until Val-auc hasn't improved in 100 rounds.\n",
            "[100]\tTrain-auc:0.685055\tVal-auc:0.685102\n",
            "[200]\tTrain-auc:0.6917\tVal-auc:0.691597\n",
            "[300]\tTrain-auc:0.69519\tVal-auc:0.694965\n",
            "[400]\tTrain-auc:0.697494\tVal-auc:0.697148\n",
            "[500]\tTrain-auc:0.69927\tVal-auc:0.698857\n",
            "[600]\tTrain-auc:0.700867\tVal-auc:0.700403\n",
            "[700]\tTrain-auc:0.702388\tVal-auc:0.70184\n",
            "[800]\tTrain-auc:0.70347\tVal-auc:0.702872\n",
            "[900]\tTrain-auc:0.704533\tVal-auc:0.703861\n",
            "[999]\tTrain-auc:0.705408\tVal-auc:0.704658\n",
            "\n",
            "Fold 3 AUC 0.704658 & std 0.171175\n",
            "Fold 3 Precision 0.644547\n",
            "Fold 3 Recall 0.644482\n",
            "Fold 3 F1 score 0.644515\n",
            "[0]\tTrain-auc:0.585391\tVal-auc:0.584646\n",
            "Multiple eval metrics have been passed: 'Val-auc' will be used for early stopping.\n",
            "\n",
            "Will train until Val-auc hasn't improved in 100 rounds.\n",
            "[100]\tTrain-auc:0.685109\tVal-auc:0.684494\n",
            "[200]\tTrain-auc:0.69144\tVal-auc:0.690708\n",
            "[300]\tTrain-auc:0.694864\tVal-auc:0.694113\n",
            "[400]\tTrain-auc:0.697418\tVal-auc:0.696648\n",
            "[500]\tTrain-auc:0.699309\tVal-auc:0.698416\n",
            "[600]\tTrain-auc:0.70107\tVal-auc:0.700119\n",
            "[700]\tTrain-auc:0.702491\tVal-auc:0.701444\n",
            "[800]\tTrain-auc:0.703546\tVal-auc:0.702428\n",
            "[900]\tTrain-auc:0.704719\tVal-auc:0.703544\n",
            "[999]\tTrain-auc:0.705663\tVal-auc:0.704428\n",
            "\n",
            "Fold 4 AUC 0.704428 & std 0.171092\n",
            "Fold 4 Precision 0.644311\n",
            "Fold 4 Recall 0.643635\n",
            "Fold 4 F1 score 0.643973\n",
            "[0]\tTrain-auc:0.585087\tVal-auc:0.585862\n",
            "Multiple eval metrics have been passed: 'Val-auc' will be used for early stopping.\n",
            "\n",
            "Will train until Val-auc hasn't improved in 100 rounds.\n",
            "[100]\tTrain-auc:0.684433\tVal-auc:0.685139\n",
            "[200]\tTrain-auc:0.691711\tVal-auc:0.692299\n",
            "[300]\tTrain-auc:0.694986\tVal-auc:0.695485\n",
            "[400]\tTrain-auc:0.69736\tVal-auc:0.697824\n",
            "[500]\tTrain-auc:0.699184\tVal-auc:0.699556\n",
            "[600]\tTrain-auc:0.700883\tVal-auc:0.70114\n",
            "[700]\tTrain-auc:0.70217\tVal-auc:0.702393\n",
            "[800]\tTrain-auc:0.703332\tVal-auc:0.703499\n",
            "[900]\tTrain-auc:0.704448\tVal-auc:0.704571\n",
            "[999]\tTrain-auc:0.705481\tVal-auc:0.705523\n",
            "\n",
            "Fold 5 AUC 0.705523 & std 0.171278\n",
            "Fold 5 Precision 0.646461\n",
            "Fold 5 Recall 0.644263\n",
            "Fold 5 F1 score 0.645360\n",
            "\n",
            "CV AUC score 0.704763 & std 0.171095\n",
            "Cross validation Precision score 0.645084\n",
            "Cross validation Recall score 0.644449\n",
            "Cross validation F1 score 0.644766\n",
            "CPU times: user 10h 37min 50s, sys: 4min 6s, total: 10h 41min 56s\n",
            "Wall time: 20min 12s\n"
          ],
          "name": "stdout"
        }
      ]
    },
    {
      "cell_type": "code",
      "metadata": {
        "id": "rkPtZMaeVSjw",
        "colab_type": "code",
        "colab": {
          "base_uri": "https://localhost:8080/",
          "height": 34
        },
        "outputId": "d2ac67fa-acd9-44b0-da3d-a7b6dd7dec5b"
      },
      "source": [
        "oof_roc = roc_auc_score(y_train, oof_preds)\n",
        "oof_roc "
      ],
      "execution_count": 29,
      "outputs": [
        {
          "output_type": "execute_result",
          "data": {
            "text/plain": [
              "0.7047632598654217"
            ]
          },
          "metadata": {
            "tags": []
          },
          "execution_count": 29
        }
      ]
    },
    {
      "cell_type": "code",
      "metadata": {
        "id": "bt62jmDLWVX1",
        "colab_type": "code",
        "colab": {
          "base_uri": "https://localhost:8080/",
          "height": 224
        },
        "outputId": "9df1f31c-8bcb-4455-96c4-e86a155d79b3"
      },
      "source": [
        "! pip install scikit-plot"
      ],
      "execution_count": 33,
      "outputs": [
        {
          "output_type": "stream",
          "text": [
            "Requirement already satisfied: scikit-plot in /usr/local/lib/python3.6/dist-packages (0.3.7)\n",
            "Requirement already satisfied: matplotlib>=1.4.0 in /usr/local/lib/python3.6/dist-packages (from scikit-plot) (3.2.1)\n",
            "Requirement already satisfied: joblib>=0.10 in /usr/local/lib/python3.6/dist-packages (from scikit-plot) (0.15.1)\n",
            "Requirement already satisfied: scipy>=0.9 in /usr/local/lib/python3.6/dist-packages (from scikit-plot) (1.4.1)\n",
            "Requirement already satisfied: scikit-learn>=0.18 in /usr/local/lib/python3.6/dist-packages (from scikit-plot) (0.22.2.post1)\n",
            "Requirement already satisfied: pyparsing!=2.0.4,!=2.1.2,!=2.1.6,>=2.0.1 in /usr/local/lib/python3.6/dist-packages (from matplotlib>=1.4.0->scikit-plot) (2.4.7)\n",
            "Requirement already satisfied: kiwisolver>=1.0.1 in /usr/local/lib/python3.6/dist-packages (from matplotlib>=1.4.0->scikit-plot) (1.2.0)\n",
            "Requirement already satisfied: python-dateutil>=2.1 in /usr/local/lib/python3.6/dist-packages (from matplotlib>=1.4.0->scikit-plot) (2.8.1)\n",
            "Requirement already satisfied: numpy>=1.11 in /usr/local/lib/python3.6/dist-packages (from matplotlib>=1.4.0->scikit-plot) (1.18.4)\n",
            "Requirement already satisfied: cycler>=0.10 in /usr/local/lib/python3.6/dist-packages (from matplotlib>=1.4.0->scikit-plot) (0.10.0)\n",
            "Requirement already satisfied: six>=1.5 in /usr/local/lib/python3.6/dist-packages (from python-dateutil>=2.1->matplotlib>=1.4.0->scikit-plot) (1.12.0)\n"
          ],
          "name": "stdout"
        }
      ]
    },
    {
      "cell_type": "code",
      "metadata": {
        "id": "J0dB1GAyWeCj",
        "colab_type": "code",
        "colab": {}
      },
      "source": [
        "from sklearn.metrics import confusion_matrix\n",
        "import scikitplot as skplt\n"
      ],
      "execution_count": 0,
      "outputs": []
    },
    {
      "cell_type": "code",
      "metadata": {
        "id": "pNd31tNUVlZ6",
        "colab_type": "code",
        "colab": {
          "base_uri": "https://localhost:8080/",
          "height": 295
        },
        "outputId": "99b2a4ad-f621-47d7-8c45-0e91eef2a944"
      },
      "source": [
        "#print(confusion_matrix(y_train, np.round(oof_preds)))\n",
        "cm=skplt.metrics.plot_confusion_matrix(y_train, np.round(oof_preds), cmap=\"BrBG\")"
      ],
      "execution_count": 41,
      "outputs": [
        {
          "output_type": "display_data",
          "data": {
            "image/png": "[encoded data removed]",
            "text/plain": [
              "<Figure size 432x288 with 2 Axes>"
            ]
          },
          "metadata": {
            "tags": [],
            "needs_background": "light"
          }
        }
      ]
    },
    {
      "cell_type": "code",
      "metadata": {
        "id": "2Zv866mnbDqS",
        "colab_type": "code",
        "colab": {
          "base_uri": "https://localhost:8080/",
          "height": 51
        },
        "outputId": "a2e40122-78a2-476b-8e1b-5d26ffcad206"
      },
      "source": [
        "cm=confusion_matrix(y_train, np.round(oof_preds))\n",
        "print(\"False positive rate : %f %%\" % ((cm[0][1] / float(sum(cm[0])))*100))\n",
        "print('False negative rate : %f %%' % ( (cm[1][0] /float(sum(cm[1]))*100)))\n"
      ],
      "execution_count": 48,
      "outputs": [
        {
          "output_type": "stream",
          "text": [
            "False positive rate : 35.384145 %\n",
            "False negative rate : 35.555117 %\n"
          ],
          "name": "stdout"
        }
      ]
    },
    {
      "cell_type": "code",
      "metadata": {
        "id": "2g9iw3Y_Yk1z",
        "colab_type": "code",
        "colab": {
          "base_uri": "https://localhost:8080/",
          "height": 747
        },
        "outputId": "7e920449-93b8-40b5-83bf-8bc332af548a"
      },
      "source": [
        "fig, ax = plt.subplots(1,1,figsize=(10,12)) \n",
        "xgb.plot_importance(clf, max_num_features=30, ax=ax) "
      ],
      "execution_count": 38,
      "outputs": [
        {
          "output_type": "execute_result",
          "data": {
            "text/plain": [
              "<matplotlib.axes._subplots.AxesSubplot at 0x7f2047811e48>"
            ]
          },
          "metadata": {
            "tags": []
          },
          "execution_count": 38
        },
        {
          "output_type": "display_data",
          "data": {
            "image/png": "[encoded data removed]",
            "text/plain": [
              "<Figure size 720x864 with 1 Axes>"
            ]
          },
          "metadata": {
            "tags": [],
            "needs_background": "light"
          }
        }
      ]
    },
    {
      "cell_type": "code",
      "metadata": {
        "id": "Ca-Gegkkf2LJ",
        "colab_type": "code",
        "colab": {
          "base_uri": "https://localhost:8080/",
          "height": 224
        },
        "outputId": "9443f278-9df3-48ef-8831-45ab3b007b2f"
      },
      "source": [
        "test['HasDetections'] = sub_preds\n",
        "test.head()\n"
      ],
      "execution_count": 51,
      "outputs": [
        {
          "output_type": "execute_result",
          "data": {
            "text/html": [
              "<div>\n",
              "<style scoped>\n",
              "    .dataframe tbody tr th:only-of-type {\n",
              "        vertical-align: middle;\n",
              "    }\n",
              "\n",
              "    .dataframe tbody tr th {\n",
              "        vertical-align: top;\n",
              "    }\n",
              "\n",
              "    .dataframe thead th {\n",
              "        text-align: right;\n",
              "    }\n",
              "</style>\n",
              "<table border=\"1\" class=\"dataframe\">\n",
              "  <thead>\n",
              "    <tr style=\"text-align: right;\">\n",
              "      <th></th>\n",
              "      <th>EngineVersion</th>\n",
              "      <th>AppVersion</th>\n",
              "      <th>AvSigVersion</th>\n",
              "      <th>AVProductStatesIdentifier</th>\n",
              "      <th>AVProductsInstalled</th>\n",
              "      <th>CountryIdentifier</th>\n",
              "      <th>CityIdentifier</th>\n",
              "      <th>OrganizationIdentifier</th>\n",
              "      <th>GeoNameIdentifier</th>\n",
              "      <th>LocaleEnglishNameIdentifier</th>\n",
              "      <th>OsBuild</th>\n",
              "      <th>OsSuite</th>\n",
              "      <th>OsPlatformSubRelease</th>\n",
              "      <th>OsBuildLab</th>\n",
              "      <th>SkuEdition</th>\n",
              "      <th>IeVerIdentifier</th>\n",
              "      <th>SmartScreen</th>\n",
              "      <th>Census_MDC2FormFactor</th>\n",
              "      <th>Census_OEMNameIdentifier</th>\n",
              "      <th>Census_OEMModelIdentifier</th>\n",
              "      <th>Census_ProcessorCoreCount</th>\n",
              "      <th>Census_ProcessorManufacturerIdentifier</th>\n",
              "      <th>Census_ProcessorModelIdentifier</th>\n",
              "      <th>Census_PrimaryDiskTotalCapacity</th>\n",
              "      <th>Census_PrimaryDiskTypeName</th>\n",
              "      <th>Census_SystemVolumeTotalCapacity</th>\n",
              "      <th>Census_TotalPhysicalRAM</th>\n",
              "      <th>Census_ChassisTypeName</th>\n",
              "      <th>Census_InternalPrimaryDiagonalDisplaySizeInInches</th>\n",
              "      <th>Census_InternalPrimaryDisplayResolutionHorizontal</th>\n",
              "      <th>Census_InternalPrimaryDisplayResolutionVertical</th>\n",
              "      <th>Census_PowerPlatformRoleName</th>\n",
              "      <th>Census_InternalBatteryType</th>\n",
              "      <th>Census_InternalBatteryNumberOfCharges</th>\n",
              "      <th>Census_OSVersion</th>\n",
              "      <th>Census_OSBranch</th>\n",
              "      <th>Census_OSBuildNumber</th>\n",
              "      <th>Census_OSBuildRevision</th>\n",
              "      <th>Census_OSEdition</th>\n",
              "      <th>Census_OSSkuName</th>\n",
              "      <th>Census_OSInstallTypeName</th>\n",
              "      <th>Census_OSInstallLanguageIdentifier</th>\n",
              "      <th>Census_OSUILocaleIdentifier</th>\n",
              "      <th>Census_OSWUAutoUpdateOptionsName</th>\n",
              "      <th>Census_GenuineStateName</th>\n",
              "      <th>Census_ActivationChannel</th>\n",
              "      <th>Census_IsFlightingInternal</th>\n",
              "      <th>Census_ThresholdOptIn</th>\n",
              "      <th>Census_FirmwareManufacturerIdentifier</th>\n",
              "      <th>Census_FirmwareVersionIdentifier</th>\n",
              "      <th>Census_IsSecureBootEnabled</th>\n",
              "      <th>Census_IsWIMBootEnabled</th>\n",
              "      <th>Census_IsTouchEnabled</th>\n",
              "      <th>Wdft_IsGamer</th>\n",
              "      <th>Wdft_RegionIdentifier</th>\n",
              "      <th>HasDetections</th>\n",
              "    </tr>\n",
              "  </thead>\n",
              "  <tbody>\n",
              "    <tr>\n",
              "      <th>0</th>\n",
              "      <td>68</td>\n",
              "      <td>70</td>\n",
              "      <td>9261</td>\n",
              "      <td>53447.0</td>\n",
              "      <td>1.0</td>\n",
              "      <td>43</td>\n",
              "      <td>58552.0</td>\n",
              "      <td>18.0</td>\n",
              "      <td>53.0</td>\n",
              "      <td>42</td>\n",
              "      <td>15063</td>\n",
              "      <td>768</td>\n",
              "      <td>2</td>\n",
              "      <td>259</td>\n",
              "      <td>4</td>\n",
              "      <td>108.0</td>\n",
              "      <td>13</td>\n",
              "      <td>8</td>\n",
              "      <td>2688.0</td>\n",
              "      <td>30661.0</td>\n",
              "      <td>4.0</td>\n",
              "      <td>5.0</td>\n",
              "      <td>3064.0</td>\n",
              "      <td>488386.0</td>\n",
              "      <td>1</td>\n",
              "      <td>123179.0</td>\n",
              "      <td>8192.0</td>\n",
              "      <td>33</td>\n",
              "      <td>15.500000</td>\n",
              "      <td>1920.0</td>\n",
              "      <td>1080.0</td>\n",
              "      <td>3</td>\n",
              "      <td>42</td>\n",
              "      <td>8.0</td>\n",
              "      <td>255</td>\n",
              "      <td>3</td>\n",
              "      <td>15063</td>\n",
              "      <td>1387</td>\n",
              "      <td>4</td>\n",
              "      <td>2</td>\n",
              "      <td>5</td>\n",
              "      <td>37.0</td>\n",
              "      <td>158</td>\n",
              "      <td>0</td>\n",
              "      <td>1</td>\n",
              "      <td>0</td>\n",
              "      <td>0.0</td>\n",
              "      <td>0.0</td>\n",
              "      <td>807.0</td>\n",
              "      <td>8554.0</td>\n",
              "      <td>1</td>\n",
              "      <td>0.0</td>\n",
              "      <td>0</td>\n",
              "      <td>0.0</td>\n",
              "      <td>7.0</td>\n",
              "      <td>0.593659</td>\n",
              "    </tr>\n",
              "    <tr>\n",
              "      <th>1</th>\n",
              "      <td>67</td>\n",
              "      <td>64</td>\n",
              "      <td>9005</td>\n",
              "      <td>53447.0</td>\n",
              "      <td>1.0</td>\n",
              "      <td>68</td>\n",
              "      <td>71395.0</td>\n",
              "      <td>27.0</td>\n",
              "      <td>276.0</td>\n",
              "      <td>74</td>\n",
              "      <td>16299</td>\n",
              "      <td>768</td>\n",
              "      <td>3</td>\n",
              "      <td>270</td>\n",
              "      <td>4</td>\n",
              "      <td>117.0</td>\n",
              "      <td>13</td>\n",
              "      <td>8</td>\n",
              "      <td>2206.0</td>\n",
              "      <td>242491.0</td>\n",
              "      <td>4.0</td>\n",
              "      <td>5.0</td>\n",
              "      <td>3410.0</td>\n",
              "      <td>1907729.0</td>\n",
              "      <td>0</td>\n",
              "      <td>1882352.0</td>\n",
              "      <td>8192.0</td>\n",
              "      <td>33</td>\n",
              "      <td>15.500000</td>\n",
              "      <td>1366.0</td>\n",
              "      <td>768.0</td>\n",
              "      <td>3</td>\n",
              "      <td>42</td>\n",
              "      <td>0.0</td>\n",
              "      <td>323</td>\n",
              "      <td>6</td>\n",
              "      <td>16299</td>\n",
              "      <td>611</td>\n",
              "      <td>4</td>\n",
              "      <td>2</td>\n",
              "      <td>6</td>\n",
              "      <td>7.0</td>\n",
              "      <td>30</td>\n",
              "      <td>0</td>\n",
              "      <td>1</td>\n",
              "      <td>2</td>\n",
              "      <td>0.0</td>\n",
              "      <td>0.0</td>\n",
              "      <td>554.0</td>\n",
              "      <td>33105.0</td>\n",
              "      <td>1</td>\n",
              "      <td>0.0</td>\n",
              "      <td>0</td>\n",
              "      <td>1.0</td>\n",
              "      <td>12.0</td>\n",
              "      <td>0.634720</td>\n",
              "    </tr>\n",
              "    <tr>\n",
              "      <th>2</th>\n",
              "      <td>65</td>\n",
              "      <td>64</td>\n",
              "      <td>8501</td>\n",
              "      <td>49480.0</td>\n",
              "      <td>2.0</td>\n",
              "      <td>201</td>\n",
              "      <td>66202.0</td>\n",
              "      <td>27.0</td>\n",
              "      <td>267.0</td>\n",
              "      <td>-5</td>\n",
              "      <td>14393</td>\n",
              "      <td>768</td>\n",
              "      <td>1</td>\n",
              "      <td>201</td>\n",
              "      <td>4</td>\n",
              "      <td>98.0</td>\n",
              "      <td>13</td>\n",
              "      <td>8</td>\n",
              "      <td>585.0</td>\n",
              "      <td>189533.0</td>\n",
              "      <td>2.0</td>\n",
              "      <td>5.0</td>\n",
              "      <td>2096.0</td>\n",
              "      <td>29820.0</td>\n",
              "      <td>1</td>\n",
              "      <td>28678.0</td>\n",
              "      <td>4096.0</td>\n",
              "      <td>33</td>\n",
              "      <td>13.898438</td>\n",
              "      <td>1280.0</td>\n",
              "      <td>720.0</td>\n",
              "      <td>3</td>\n",
              "      <td>42</td>\n",
              "      <td>0.0</td>\n",
              "      <td>174</td>\n",
              "      <td>0</td>\n",
              "      <td>14393</td>\n",
              "      <td>2189</td>\n",
              "      <td>7</td>\n",
              "      <td>5</td>\n",
              "      <td>3</td>\n",
              "      <td>35.0</td>\n",
              "      <td>148</td>\n",
              "      <td>5</td>\n",
              "      <td>1</td>\n",
              "      <td>0</td>\n",
              "      <td>0.0</td>\n",
              "      <td>0.0</td>\n",
              "      <td>556.0</td>\n",
              "      <td>63396.0</td>\n",
              "      <td>1</td>\n",
              "      <td>0.0</td>\n",
              "      <td>0</td>\n",
              "      <td>1.0</td>\n",
              "      <td>11.0</td>\n",
              "      <td>0.489733</td>\n",
              "    </tr>\n",
              "    <tr>\n",
              "      <th>3</th>\n",
              "      <td>68</td>\n",
              "      <td>70</td>\n",
              "      <td>9301</td>\n",
              "      <td>42160.0</td>\n",
              "      <td>2.0</td>\n",
              "      <td>29</td>\n",
              "      <td>120917.0</td>\n",
              "      <td>27.0</td>\n",
              "      <td>35.0</td>\n",
              "      <td>-85</td>\n",
              "      <td>16299</td>\n",
              "      <td>768</td>\n",
              "      <td>3</td>\n",
              "      <td>266</td>\n",
              "      <td>4</td>\n",
              "      <td>117.0</td>\n",
              "      <td>13</td>\n",
              "      <td>8</td>\n",
              "      <td>2668.0</td>\n",
              "      <td>171228.0</td>\n",
              "      <td>2.0</td>\n",
              "      <td>5.0</td>\n",
              "      <td>1985.0</td>\n",
              "      <td>476940.0</td>\n",
              "      <td>0</td>\n",
              "      <td>439345.0</td>\n",
              "      <td>4096.0</td>\n",
              "      <td>33</td>\n",
              "      <td>14.000000</td>\n",
              "      <td>1366.0</td>\n",
              "      <td>768.0</td>\n",
              "      <td>3</td>\n",
              "      <td>37</td>\n",
              "      <td>0.0</td>\n",
              "      <td>312</td>\n",
              "      <td>5</td>\n",
              "      <td>16299</td>\n",
              "      <td>371</td>\n",
              "      <td>7</td>\n",
              "      <td>5</td>\n",
              "      <td>8</td>\n",
              "      <td>26.0</td>\n",
              "      <td>119</td>\n",
              "      <td>3</td>\n",
              "      <td>1</td>\n",
              "      <td>0</td>\n",
              "      <td>0.0</td>\n",
              "      <td>0.0</td>\n",
              "      <td>628.0</td>\n",
              "      <td>26320.0</td>\n",
              "      <td>1</td>\n",
              "      <td>0.0</td>\n",
              "      <td>0</td>\n",
              "      <td>0.0</td>\n",
              "      <td>10.0</td>\n",
              "      <td>0.331173</td>\n",
              "    </tr>\n",
              "    <tr>\n",
              "      <th>4</th>\n",
              "      <td>67</td>\n",
              "      <td>64</td>\n",
              "      <td>8989</td>\n",
              "      <td>53447.0</td>\n",
              "      <td>1.0</td>\n",
              "      <td>171</td>\n",
              "      <td>124736.0</td>\n",
              "      <td>18.0</td>\n",
              "      <td>211.0</td>\n",
              "      <td>-74</td>\n",
              "      <td>16299</td>\n",
              "      <td>768</td>\n",
              "      <td>3</td>\n",
              "      <td>266</td>\n",
              "      <td>4</td>\n",
              "      <td>117.0</td>\n",
              "      <td>13</td>\n",
              "      <td>8</td>\n",
              "      <td>585.0</td>\n",
              "      <td>189538.0</td>\n",
              "      <td>4.0</td>\n",
              "      <td>5.0</td>\n",
              "      <td>3394.0</td>\n",
              "      <td>476940.0</td>\n",
              "      <td>0</td>\n",
              "      <td>461506.0</td>\n",
              "      <td>2048.0</td>\n",
              "      <td>33</td>\n",
              "      <td>15.500000</td>\n",
              "      <td>1366.0</td>\n",
              "      <td>768.0</td>\n",
              "      <td>3</td>\n",
              "      <td>42</td>\n",
              "      <td>0.0</td>\n",
              "      <td>312</td>\n",
              "      <td>5</td>\n",
              "      <td>16299</td>\n",
              "      <td>371</td>\n",
              "      <td>7</td>\n",
              "      <td>5</td>\n",
              "      <td>7</td>\n",
              "      <td>29.0</td>\n",
              "      <td>125</td>\n",
              "      <td>5</td>\n",
              "      <td>1</td>\n",
              "      <td>2</td>\n",
              "      <td>0.0</td>\n",
              "      <td>0.0</td>\n",
              "      <td>556.0</td>\n",
              "      <td>63269.0</td>\n",
              "      <td>1</td>\n",
              "      <td>0.0</td>\n",
              "      <td>0</td>\n",
              "      <td>1.0</td>\n",
              "      <td>3.0</td>\n",
              "      <td>0.573225</td>\n",
              "    </tr>\n",
              "  </tbody>\n",
              "</table>\n",
              "</div>"
            ],
            "text/plain": [
              "   EngineVersion  AppVersion  ...  Wdft_RegionIdentifier  HasDetections\n",
              "0             68          70  ...                    7.0       0.593659\n",
              "1             67          64  ...                   12.0       0.634720\n",
              "2             65          64  ...                   11.0       0.489733\n",
              "3             68          70  ...                   10.0       0.331173\n",
              "4             67          64  ...                    3.0       0.573225\n",
              "\n",
              "[5 rows x 56 columns]"
            ]
          },
          "metadata": {
            "tags": []
          },
          "execution_count": 51
        }
      ]
    },
    {
      "cell_type": "code",
      "metadata": {
        "id": "UaZi3KKHgPVH",
        "colab_type": "code",
        "colab": {
          "base_uri": "https://localhost:8080/",
          "height": 34
        },
        "outputId": "f067cfdd-c11a-4344-f40d-9318241d0a5f"
      },
      "source": [
        "oof_roc = roc_auc_score(y_train, oof_preds)\n",
        "oof_roc "
      ],
      "execution_count": 52,
      "outputs": [
        {
          "output_type": "execute_result",
          "data": {
            "text/plain": [
              "0.7047632598654217"
            ]
          },
          "metadata": {
            "tags": []
          },
          "execution_count": 52
        }
      ]
    },
    {
      "cell_type": "code",
      "metadata": {
        "id": "P_1HCo0Sa2LQ",
        "colab_type": "code",
        "colab": {}
      },
      "source": [
        "nadiasalmi = pd.DataFrame({\"MachineIdentifier\":test[\"MachineIdentifier\"], \"HasDetections\":test[\"HasDetections\"]})\n",
        "nadiasalmi.to_csv(\"nadia_xgb_%sFold_%.6f.csv\"%(folds.n_splits, oof_roc), index=None)\n"
      ],
      "execution_count": 0,
      "outputs": []
    },
    {
      "cell_type": "code",
      "metadata": {
        "id": "4HdEBw2cgmVZ",
        "colab_type": "code",
        "colab": {}
      },
      "source": [
        "submission = pd.read_csv('sample_submission.csv')\n",
        "submission['HasDetections'] = sub_preds\n",
        "submission.to_csv('xgboost.csv', index=False)"
      ],
      "execution_count": 0,
      "outputs": []
    },
    {
      "cell_type": "code",
      "metadata": {
        "id": "NJDWVLQ8hpGJ",
        "colab_type": "code",
        "colab": {}
      },
      "source": [
        "nadia = pd.read_csv('xgboost.csv')"
      ],
      "execution_count": 0,
      "outputs": []
    },
    {
      "cell_type": "code",
      "metadata": {
        "id": "m6ancXcTh5fz",
        "colab_type": "code",
        "colab": {
          "base_uri": "https://localhost:8080/",
          "height": 34
        },
        "outputId": "d3c22ef5-2de7-4840-e69a-b86680327602"
      },
      "source": [
        "nadia.shape"
      ],
      "execution_count": 56,
      "outputs": [
        {
          "output_type": "execute_result",
          "data": {
            "text/plain": [
              "(7853253, 2)"
            ]
          },
          "metadata": {
            "tags": []
          },
          "execution_count": 56
        }
      ]
    },
    {
      "cell_type": "code",
      "metadata": {
        "id": "XsXsnbDPjcyl",
        "colab_type": "code",
        "colab": {
          "base_uri": "https://localhost:8080/",
          "height": 204
        },
        "outputId": "db31aa2b-50ee-46d5-c097-e4f219615e99"
      },
      "source": [
        "nadia.head(5)"
      ],
      "execution_count": 57,
      "outputs": [
        {
          "output_type": "execute_result",
          "data": {
            "text/html": [
              "<div>\n",
              "<style scoped>\n",
              "    .dataframe tbody tr th:only-of-type {\n",
              "        vertical-align: middle;\n",
              "    }\n",
              "\n",
              "    .dataframe tbody tr th {\n",
              "        vertical-align: top;\n",
              "    }\n",
              "\n",
              "    .dataframe thead th {\n",
              "        text-align: right;\n",
              "    }\n",
              "</style>\n",
              "<table border=\"1\" class=\"dataframe\">\n",
              "  <thead>\n",
              "    <tr style=\"text-align: right;\">\n",
              "      <th></th>\n",
              "      <th>MachineIdentifier</th>\n",
              "      <th>HasDetections</th>\n",
              "    </tr>\n",
              "  </thead>\n",
              "  <tbody>\n",
              "    <tr>\n",
              "      <th>0</th>\n",
              "      <td>0000010489e3af074adeac69c53e555e</td>\n",
              "      <td>0.593659</td>\n",
              "    </tr>\n",
              "    <tr>\n",
              "      <th>1</th>\n",
              "      <td>00000176ac758d54827acd545b6315a5</td>\n",
              "      <td>0.634720</td>\n",
              "    </tr>\n",
              "    <tr>\n",
              "      <th>2</th>\n",
              "      <td>0000019dcefc128c2d4387c1273dae1d</td>\n",
              "      <td>0.489733</td>\n",
              "    </tr>\n",
              "    <tr>\n",
              "      <th>3</th>\n",
              "      <td>0000055553dc51b1295785415f1a224d</td>\n",
              "      <td>0.331173</td>\n",
              "    </tr>\n",
              "    <tr>\n",
              "      <th>4</th>\n",
              "      <td>00000574cefffeca83ec8adf9285b2bf</td>\n",
              "      <td>0.573225</td>\n",
              "    </tr>\n",
              "  </tbody>\n",
              "</table>\n",
              "</div>"
            ],
            "text/plain": [
              "                  MachineIdentifier  HasDetections\n",
              "0  0000010489e3af074adeac69c53e555e       0.593659\n",
              "1  00000176ac758d54827acd545b6315a5       0.634720\n",
              "2  0000019dcefc128c2d4387c1273dae1d       0.489733\n",
              "3  0000055553dc51b1295785415f1a224d       0.331173\n",
              "4  00000574cefffeca83ec8adf9285b2bf       0.573225"
            ]
          },
          "metadata": {
            "tags": []
          },
          "execution_count": 57
        }
      ]
    },
    {
      "cell_type": "code",
      "metadata": {
        "id": "x0LBZnFdwdv0",
        "colab_type": "code",
        "colab": {
          "base_uri": "https://localhost:8080/",
          "height": 377
        },
        "outputId": "ba1e7532-341d-4544-a45f-1ebce6a29d32"
      },
      "source": [
        "!pip install nbconvert"
      ],
      "execution_count": 59,
      "outputs": [
        {
          "output_type": "stream",
          "text": [
            "Requirement already satisfied: nbconvert in /usr/local/lib/python3.6/dist-packages (5.6.1)\n",
            "Requirement already satisfied: defusedxml in /usr/local/lib/python3.6/dist-packages (from nbconvert) (0.6.0)\n",
            "Requirement already satisfied: mistune<2,>=0.8.1 in /usr/local/lib/python3.6/dist-packages (from nbconvert) (0.8.4)\n",
            "Requirement already satisfied: testpath in /usr/local/lib/python3.6/dist-packages (from nbconvert) (0.4.4)\n",
            "Requirement already satisfied: bleach in /usr/local/lib/python3.6/dist-packages (from nbconvert) (3.1.5)\n",
            "Requirement already satisfied: entrypoints>=0.2.2 in /usr/local/lib/python3.6/dist-packages (from nbconvert) (0.3)\n",
            "Requirement already satisfied: pandocfilters>=1.4.1 in /usr/local/lib/python3.6/dist-packages (from nbconvert) (1.4.2)\n",
            "Requirement already satisfied: pygments in /usr/local/lib/python3.6/dist-packages (from nbconvert) (2.1.3)\n",
            "Requirement already satisfied: traitlets>=4.2 in /usr/local/lib/python3.6/dist-packages (from nbconvert) (4.3.3)\n",
            "Requirement already satisfied: jupyter-core in /usr/local/lib/python3.6/dist-packages (from nbconvert) (4.6.3)\n",
            "Requirement already satisfied: jinja2>=2.4 in /usr/local/lib/python3.6/dist-packages (from nbconvert) (2.11.2)\n",
            "Requirement already satisfied: nbformat>=4.4 in /usr/local/lib/python3.6/dist-packages (from nbconvert) (5.0.6)\n",
            "Requirement already satisfied: webencodings in /usr/local/lib/python3.6/dist-packages (from bleach->nbconvert) (0.5.1)\n",
            "Requirement already satisfied: packaging in /usr/local/lib/python3.6/dist-packages (from bleach->nbconvert) (20.4)\n",
            "Requirement already satisfied: six>=1.9.0 in /usr/local/lib/python3.6/dist-packages (from bleach->nbconvert) (1.12.0)\n",
            "Requirement already satisfied: decorator in /usr/local/lib/python3.6/dist-packages (from traitlets>=4.2->nbconvert) (4.4.2)\n",
            "Requirement already satisfied: ipython-genutils in /usr/local/lib/python3.6/dist-packages (from traitlets>=4.2->nbconvert) (0.2.0)\n",
            "Requirement already satisfied: MarkupSafe>=0.23 in /usr/local/lib/python3.6/dist-packages (from jinja2>=2.4->nbconvert) (1.1.1)\n",
            "Requirement already satisfied: jsonschema!=2.5.0,>=2.4 in /usr/local/lib/python3.6/dist-packages (from nbformat>=4.4->nbconvert) (2.6.0)\n",
            "Requirement already satisfied: pyparsing>=2.0.2 in /usr/local/lib/python3.6/dist-packages (from packaging->bleach->nbconvert) (2.4.7)\n"
          ],
          "name": "stdout"
        }
      ]
    },
    {
      "cell_type": "code",
      "metadata": {
        "id": "Cr8PVkwpwsfz",
        "colab_type": "code",
        "colab": {}
      },
      "source": [
        "!jupyter nbconvert --to html nadia.ipynb"
      ],
      "execution_count": 0,
      "outputs": []
    }
  ]
}